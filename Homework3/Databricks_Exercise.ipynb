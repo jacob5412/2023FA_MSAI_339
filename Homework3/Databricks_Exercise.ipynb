{
 "cells": [
  {
   "cell_type": "markdown",
   "metadata": {
    "application/vnd.databricks.v1+cell": {
     "cellMetadata": {
      "byteLimit": 2048000,
      "rowLimit": 10000
     },
     "inputWidgets": {},
     "nuid": "c297504c-7109-4eec-ad0a-abb527d37fc0",
     "showTitle": false,
     "title": ""
    }
   },
   "source": [
    "## Adult Dataset"
   ]
  },
  {
   "cell_type": "code",
   "execution_count": 0,
   "metadata": {
    "application/vnd.databricks.v1+cell": {
     "cellMetadata": {
      "byteLimit": 2048000,
      "rowLimit": 10000
     },
     "inputWidgets": {},
     "nuid": "416239a2-74b0-410b-881c-4cdb263e59ea",
     "showTitle": false,
     "title": ""
    }
   },
   "outputs": [
    {
     "output_type": "display_data",
     "data": {
      "text/html": [
       "<style scoped>\n",
       "  .table-result-container {\n",
       "    max-height: 300px;\n",
       "    overflow: auto;\n",
       "  }\n",
       "  table, th, td {\n",
       "    border: 1px solid black;\n",
       "    border-collapse: collapse;\n",
       "  }\n",
       "  th, td {\n",
       "    padding: 5px;\n",
       "  }\n",
       "  th {\n",
       "    text-align: left;\n",
       "  }\n",
       "</style><div class='table-result-container'><table class='table-result'><thead style='background-color: white'><tr><th>path</th><th>name</th><th>size</th><th>modificationTime</th></tr></thead><tbody><tr><td>dbfs:/databricks-datasets/adult/README.md</td><td>README.md</td><td>2672</td><td>1454697653000</td></tr><tr><td>dbfs:/databricks-datasets/adult/adult.data</td><td>adult.data</td><td>3974305</td><td>1444260537000</td></tr><tr><td>dbfs:/databricks-datasets/adult/adult.test</td><td>adult.test</td><td>2003132</td><td>1454373565000</td></tr></tbody></table></div>"
      ]
     },
     "metadata": {
      "application/vnd.databricks.v1+output": {
       "addedWidgets": {},
       "aggData": [],
       "aggError": "",
       "aggOverflow": false,
       "aggSchema": [],
       "aggSeriesLimitReached": false,
       "aggType": "",
       "arguments": {},
       "columnCustomDisplayInfos": {},
       "data": [
        [
         "dbfs:/databricks-datasets/adult/README.md",
         "README.md",
         2672,
         1454697653000
        ],
        [
         "dbfs:/databricks-datasets/adult/adult.data",
         "adult.data",
         3974305,
         1444260537000
        ],
        [
         "dbfs:/databricks-datasets/adult/adult.test",
         "adult.test",
         2003132,
         1454373565000
        ]
       ],
       "datasetInfos": [],
       "dbfsResultPath": null,
       "isJsonSchema": true,
       "metadata": {},
       "overflow": false,
       "plotOptions": {
        "customPlotOptions": {},
        "displayType": "table",
        "pivotAggregation": null,
        "pivotColumns": null,
        "xColumns": null,
        "yColumns": null
       },
       "removedWidgets": [],
       "schema": [
        {
         "metadata": "{}",
         "name": "path",
         "type": "\"string\""
        },
        {
         "metadata": "{}",
         "name": "name",
         "type": "\"string\""
        },
        {
         "metadata": "{}",
         "name": "size",
         "type": "\"long\""
        },
        {
         "metadata": "{}",
         "name": "modificationTime",
         "type": "\"long\""
        }
       ],
       "type": "table"
      }
     },
     "output_type": "display_data"
    }
   ],
   "source": [
    "display(dbutils.fs.ls('/databricks-datasets/adult/'))"
   ]
  },
  {
   "cell_type": "code",
   "execution_count": 0,
   "metadata": {
    "application/vnd.databricks.v1+cell": {
     "cellMetadata": {
      "byteLimit": 2048000,
      "rowLimit": 10000
     },
     "inputWidgets": {},
     "nuid": "8a1f5eb2-9d0b-4cb7-b1a6-84c2f1b2b4ae",
     "showTitle": false,
     "title": ""
    }
   },
   "outputs": [],
   "source": [
    "df = (\n",
    "  spark.read\n",
    "  .format(\"csv\")\n",
    "  .option(\"header\", \"true\")\n",
    "  .option(\"inferSchema\", \"true\")\n",
    "  .load(\"/databricks-datasets/adult/adult.data\")\n",
    ")"
   ]
  },
  {
   "cell_type": "code",
   "execution_count": 0,
   "metadata": {
    "application/vnd.databricks.v1+cell": {
     "cellMetadata": {
      "byteLimit": 2048000,
      "rowLimit": 10000
     },
     "inputWidgets": {},
     "nuid": "23bb5ac8-7585-4fd0-8bb9-16a92790ae49",
     "showTitle": false,
     "title": ""
    }
   },
   "outputs": [
    {
     "output_type": "display_data",
     "data": {
      "text/html": [
       "<style scoped>\n",
       "  .table-result-container {\n",
       "    max-height: 300px;\n",
       "    overflow: auto;\n",
       "  }\n",
       "  table, th, td {\n",
       "    border: 1px solid black;\n",
       "    border-collapse: collapse;\n",
       "  }\n",
       "  th, td {\n",
       "    padding: 5px;\n",
       "  }\n",
       "  th {\n",
       "    text-align: left;\n",
       "  }\n",
       "</style><div class='table-result-container'><table class='table-result'><thead style='background-color: white'><tr><th>39</th><th> State-gov</th><th> 77516</th><th> Bachelors</th><th> 13</th><th> Never-married</th><th> Adm-clerical</th><th> Not-in-family</th><th> White</th><th> Male</th><th> 2174</th><th> 0</th><th> 40</th><th> United-States</th><th> <=50K</th></tr></thead><tbody><tr><td>50</td><td> Self-emp-not-inc</td><td>83311.0</td><td> Bachelors</td><td>13.0</td><td> Married-civ-spouse</td><td> Exec-managerial</td><td> Husband</td><td> White</td><td> Male</td><td>0.0</td><td>0.0</td><td>13.0</td><td> United-States</td><td> <=50K</td></tr><tr><td>38</td><td> Private</td><td>215646.0</td><td> HS-grad</td><td>9.0</td><td> Divorced</td><td> Handlers-cleaners</td><td> Not-in-family</td><td> White</td><td> Male</td><td>0.0</td><td>0.0</td><td>40.0</td><td> United-States</td><td> <=50K</td></tr><tr><td>53</td><td> Private</td><td>234721.0</td><td> 11th</td><td>7.0</td><td> Married-civ-spouse</td><td> Handlers-cleaners</td><td> Husband</td><td> Black</td><td> Male</td><td>0.0</td><td>0.0</td><td>40.0</td><td> United-States</td><td> <=50K</td></tr><tr><td>28</td><td> Private</td><td>338409.0</td><td> Bachelors</td><td>13.0</td><td> Married-civ-spouse</td><td> Prof-specialty</td><td> Wife</td><td> Black</td><td> Female</td><td>0.0</td><td>0.0</td><td>40.0</td><td> Cuba</td><td> <=50K</td></tr><tr><td>37</td><td> Private</td><td>284582.0</td><td> Masters</td><td>14.0</td><td> Married-civ-spouse</td><td> Exec-managerial</td><td> Wife</td><td> White</td><td> Female</td><td>0.0</td><td>0.0</td><td>40.0</td><td> United-States</td><td> <=50K</td></tr></tbody></table></div>"
      ]
     },
     "metadata": {
      "application/vnd.databricks.v1+output": {
       "addedWidgets": {},
       "aggData": [],
       "aggError": "",
       "aggOverflow": false,
       "aggSchema": [],
       "aggSeriesLimitReached": false,
       "aggType": "",
       "arguments": {},
       "columnCustomDisplayInfos": {},
       "data": [
        [
         50,
         " Self-emp-not-inc",
         83311.0,
         " Bachelors",
         13.0,
         " Married-civ-spouse",
         " Exec-managerial",
         " Husband",
         " White",
         " Male",
         0.0,
         0.0,
         13.0,
         " United-States",
         " <=50K"
        ],
        [
         38,
         " Private",
         215646.0,
         " HS-grad",
         9.0,
         " Divorced",
         " Handlers-cleaners",
         " Not-in-family",
         " White",
         " Male",
         0.0,
         0.0,
         40.0,
         " United-States",
         " <=50K"
        ],
        [
         53,
         " Private",
         234721.0,
         " 11th",
         7.0,
         " Married-civ-spouse",
         " Handlers-cleaners",
         " Husband",
         " Black",
         " Male",
         0.0,
         0.0,
         40.0,
         " United-States",
         " <=50K"
        ],
        [
         28,
         " Private",
         338409.0,
         " Bachelors",
         13.0,
         " Married-civ-spouse",
         " Prof-specialty",
         " Wife",
         " Black",
         " Female",
         0.0,
         0.0,
         40.0,
         " Cuba",
         " <=50K"
        ],
        [
         37,
         " Private",
         284582.0,
         " Masters",
         14.0,
         " Married-civ-spouse",
         " Exec-managerial",
         " Wife",
         " White",
         " Female",
         0.0,
         0.0,
         40.0,
         " United-States",
         " <=50K"
        ]
       ],
       "datasetInfos": [],
       "dbfsResultPath": null,
       "isJsonSchema": true,
       "metadata": {},
       "overflow": false,
       "plotOptions": {
        "customPlotOptions": {},
        "displayType": "table",
        "pivotAggregation": null,
        "pivotColumns": null,
        "xColumns": null,
        "yColumns": null
       },
       "removedWidgets": [],
       "schema": [
        {
         "metadata": "{}",
         "name": "39",
         "type": "\"long\""
        },
        {
         "metadata": "{}",
         "name": " State-gov",
         "type": "\"string\""
        },
        {
         "metadata": "{}",
         "name": " 77516",
         "type": "\"double\""
        },
        {
         "metadata": "{}",
         "name": " Bachelors",
         "type": "\"string\""
        },
        {
         "metadata": "{}",
         "name": " 13",
         "type": "\"double\""
        },
        {
         "metadata": "{}",
         "name": " Never-married",
         "type": "\"string\""
        },
        {
         "metadata": "{}",
         "name": " Adm-clerical",
         "type": "\"string\""
        },
        {
         "metadata": "{}",
         "name": " Not-in-family",
         "type": "\"string\""
        },
        {
         "metadata": "{}",
         "name": " White",
         "type": "\"string\""
        },
        {
         "metadata": "{}",
         "name": " Male",
         "type": "\"string\""
        },
        {
         "metadata": "{}",
         "name": " 2174",
         "type": "\"double\""
        },
        {
         "metadata": "{}",
         "name": " 0",
         "type": "\"double\""
        },
        {
         "metadata": "{}",
         "name": " 40",
         "type": "\"double\""
        },
        {
         "metadata": "{}",
         "name": " United-States",
         "type": "\"string\""
        },
        {
         "metadata": "{}",
         "name": " <=50K",
         "type": "\"string\""
        }
       ],
       "type": "table"
      }
     },
     "output_type": "display_data"
    }
   ],
   "source": [
    "display(df.head(5))"
   ]
  },
  {
   "cell_type": "markdown",
   "metadata": {
    "application/vnd.databricks.v1+cell": {
     "cellMetadata": {
      "byteLimit": 2048000,
      "rowLimit": 10000
     },
     "inputWidgets": {},
     "nuid": "204ee80c-2bdf-414d-b895-0e0739ff117d",
     "showTitle": false,
     "title": ""
    }
   },
   "source": [
    "## Import Adult Dataset into Spark SQL Table"
   ]
  },
  {
   "cell_type": "code",
   "execution_count": 0,
   "metadata": {
    "application/vnd.databricks.v1+cell": {
     "cellMetadata": {
      "byteLimit": 2048000,
      "implicitDf": true,
      "rowLimit": 10000
     },
     "inputWidgets": {},
     "nuid": "11a006c3-6695-45e3-891e-6dfe8d5d92e6",
     "showTitle": false,
     "title": ""
    }
   },
   "outputs": [
    {
     "output_type": "display_data",
     "data": {
      "text/html": [
       "<style scoped>\n",
       "  .table-result-container {\n",
       "    max-height: 300px;\n",
       "    overflow: auto;\n",
       "  }\n",
       "  table, th, td {\n",
       "    border: 1px solid black;\n",
       "    border-collapse: collapse;\n",
       "  }\n",
       "  th, td {\n",
       "    padding: 5px;\n",
       "  }\n",
       "  th {\n",
       "    text-align: left;\n",
       "  }\n",
       "</style><div class='table-result-container'><table class='table-result'><thead style='background-color: white'><tr></tr></thead><tbody></tbody></table></div>"
      ]
     },
     "metadata": {
      "application/vnd.databricks.v1+output": {
       "addedWidgets": {},
       "aggData": [],
       "aggError": "",
       "aggOverflow": false,
       "aggSchema": [],
       "aggSeriesLimitReached": false,
       "aggType": "",
       "arguments": {},
       "columnCustomDisplayInfos": {},
       "data": [],
       "datasetInfos": [],
       "dbfsResultPath": null,
       "isJsonSchema": true,
       "metadata": {},
       "overflow": false,
       "plotOptions": {
        "customPlotOptions": {},
        "displayType": "table",
        "pivotAggregation": null,
        "pivotColumns": null,
        "xColumns": null,
        "yColumns": null
       },
       "removedWidgets": [],
       "schema": [],
       "type": "table"
      }
     },
     "output_type": "display_data"
    }
   ],
   "source": [
    "%sql\n",
    "\n",
    "DROP TABLE IF EXISTS adult"
   ]
  },
  {
   "cell_type": "code",
   "execution_count": 0,
   "metadata": {
    "application/vnd.databricks.v1+cell": {
     "cellMetadata": {
      "byteLimit": 2048000,
      "implicitDf": true,
      "rowLimit": 10000
     },
     "inputWidgets": {},
     "nuid": "014a5f51-1498-4120-bd0d-20be5d56833e",
     "showTitle": false,
     "title": ""
    }
   },
   "outputs": [
    {
     "output_type": "display_data",
     "data": {
      "text/html": [
       "<style scoped>\n",
       "  .table-result-container {\n",
       "    max-height: 300px;\n",
       "    overflow: auto;\n",
       "  }\n",
       "  table, th, td {\n",
       "    border: 1px solid black;\n",
       "    border-collapse: collapse;\n",
       "  }\n",
       "  th, td {\n",
       "    padding: 5px;\n",
       "  }\n",
       "  th {\n",
       "    text-align: left;\n",
       "  }\n",
       "</style><div class='table-result-container'><table class='table-result'><thead style='background-color: white'><tr></tr></thead><tbody></tbody></table></div>"
      ]
     },
     "metadata": {
      "application/vnd.databricks.v1+output": {
       "addedWidgets": {},
       "aggData": [],
       "aggError": "",
       "aggOverflow": false,
       "aggSchema": [],
       "aggSeriesLimitReached": false,
       "aggType": "",
       "arguments": {},
       "columnCustomDisplayInfos": {},
       "data": [],
       "datasetInfos": [],
       "dbfsResultPath": null,
       "isJsonSchema": true,
       "metadata": {},
       "overflow": false,
       "plotOptions": {
        "customPlotOptions": {},
        "displayType": "table",
        "pivotAggregation": null,
        "pivotColumns": null,
        "xColumns": null,
        "yColumns": null
       },
       "removedWidgets": [],
       "schema": [],
       "type": "table"
      }
     },
     "output_type": "display_data"
    }
   ],
   "source": [
    "%sql\n",
    "\n",
    "CREATE TABLE adult (\n",
    "  age DOUBLE,\n",
    "  workclass STRING,\n",
    "  fnlwgt DOUBLE,\n",
    "  education STRING,\n",
    "  education_num DOUBLE,\n",
    "  marital_status STRING,\n",
    "  occupation STRING,\n",
    "  relationship STRING,\n",
    "  race STRING,\n",
    "  sex STRING,\n",
    "  capital_gain DOUBLE,\n",
    "  capital_loss DOUBLE,\n",
    "  hours_per_week DOUBLE,\n",
    "  native_country STRING,\n",
    "  income STRING)\n",
    "USING com.databricks.spark.csv\n",
    "OPTIONS (path \"/databricks-datasets/adult/adult.data\", header \"true\")"
   ]
  },
  {
   "cell_type": "code",
   "execution_count": 0,
   "metadata": {
    "application/vnd.databricks.v1+cell": {
     "cellMetadata": {
      "byteLimit": 2048000,
      "rowLimit": 10000
     },
     "inputWidgets": {},
     "nuid": "95752899-f3d3-4bef-aeee-a60998ef561b",
     "showTitle": false,
     "title": ""
    }
   },
   "outputs": [
    {
     "output_type": "stream",
     "name": "stdout",
     "output_type": "stream",
     "text": [
      "Out[6]: DataFrame[age: double, workclass: string, fnlwgt: double, education: string, education_num: double, marital_status: string, occupation: string, relationship: string, race: string, sex: string, capital_gain: double, capital_loss: double, hours_per_week: double, native_country: string, income: string]"
     ]
    }
   ],
   "source": [
    "spark.sql(\"SELECT * FROM adult LIMIT 5\")"
   ]
  },
  {
   "cell_type": "markdown",
   "metadata": {
    "application/vnd.databricks.v1+cell": {
     "cellMetadata": {
      "byteLimit": 2048000,
      "rowLimit": 10000
     },
     "inputWidgets": {},
     "nuid": "2dc16cab-6c83-42a8-80ea-5d474f92ccfd",
     "showTitle": false,
     "title": ""
    }
   },
   "source": [
    "## Data Schema for the adult dataset"
   ]
  },
  {
   "cell_type": "code",
   "execution_count": 0,
   "metadata": {
    "application/vnd.databricks.v1+cell": {
     "cellMetadata": {
      "byteLimit": 2048000,
      "rowLimit": 10000
     },
     "inputWidgets": {},
     "nuid": "75fd1f1f-c7ab-4ab4-b2e4-ec354781aff3",
     "showTitle": false,
     "title": ""
    }
   },
   "outputs": [],
   "source": [
    "from pyspark.sql.types import StructType\n",
    "from pyspark.sql.types import StructField , IntegerType, StringType, DoubleType\n",
    " \n",
    "adultSchema = StructType([\n",
    "    StructField(\"age\", DoubleType(), True),        \n",
    "    StructField(\"workclass\", StringType(), True),\n",
    "    StructField(\"fnlwgt\", DoubleType(), True),\n",
    "    StructField(\"education\", StringType(), True),\n",
    "    StructField(\"education_num\", DoubleType(), True),\n",
    "    StructField(\"marital_status\", StringType(), True),\n",
    "    StructField(\"occupation\", StringType(), True),   \n",
    "    StructField(\"relationship\", StringType(), True),\n",
    "    StructField(\"race\", StringType(), True),\n",
    "    StructField(\"sex\", StringType(), True),\n",
    "    StructField(\"capital_gain\", DoubleType(), True),   \n",
    "    StructField(\"capital_loss\", DoubleType(), True),\n",
    "    StructField(\"hours_per_week\", DoubleType(), True),\n",
    "    StructField(\"native_country\", StringType(), True),\n",
    "    StructField(\"income\", StringType(), True),\n",
    " \n",
    "])"
   ]
  },
  {
   "cell_type": "markdown",
   "metadata": {
    "application/vnd.databricks.v1+cell": {
     "cellMetadata": {
      "byteLimit": 2048000,
      "rowLimit": 10000
     },
     "inputWidgets": {},
     "nuid": "cdf83203-6287-4b1e-b7ea-606e2b469e7a",
     "showTitle": false,
     "title": ""
    }
   },
   "source": [
    "## Alternative Approach Create DataFrame for the Adult dataset   "
   ]
  },
  {
   "cell_type": "code",
   "execution_count": 0,
   "metadata": {
    "application/vnd.databricks.v1+cell": {
     "cellMetadata": {
      "byteLimit": 2048000,
      "rowLimit": 10000
     },
     "inputWidgets": {},
     "nuid": "cdf9b6ce-f96d-4d05-9f2a-77b74f945bc5",
     "showTitle": false,
     "title": ""
    }
   },
   "outputs": [],
   "source": [
    "df = (\n",
    "  spark.read\n",
    "  .format(\"csv\")\n",
    "  .option(\"header\", \"false\")\n",
    "  .schema(adultSchema)\n",
    "  .load(\"/databricks-datasets/adult/adult.data\")\n",
    ")"
   ]
  },
  {
   "cell_type": "code",
   "execution_count": 0,
   "metadata": {
    "application/vnd.databricks.v1+cell": {
     "cellMetadata": {
      "byteLimit": 2048000,
      "rowLimit": 10000
     },
     "inputWidgets": {},
     "nuid": "1f1bc580-dcf8-4d2a-b71c-3d4a881919c0",
     "showTitle": false,
     "title": ""
    }
   },
   "outputs": [
    {
     "output_type": "display_data",
     "data": {
      "text/html": [
       "<style scoped>\n",
       "  .table-result-container {\n",
       "    max-height: 300px;\n",
       "    overflow: auto;\n",
       "  }\n",
       "  table, th, td {\n",
       "    border: 1px solid black;\n",
       "    border-collapse: collapse;\n",
       "  }\n",
       "  th, td {\n",
       "    padding: 5px;\n",
       "  }\n",
       "  th {\n",
       "    text-align: left;\n",
       "  }\n",
       "</style><div class='table-result-container'><table class='table-result'><thead style='background-color: white'><tr><th>age</th><th>workclass</th><th>fnlwgt</th><th>education</th><th>education_num</th><th>marital_status</th><th>occupation</th><th>relationship</th><th>race</th><th>sex</th><th>capital_gain</th><th>capital_loss</th><th>hours_per_week</th><th>native_country</th><th>income</th></tr></thead><tbody><tr><td>39.0</td><td> State-gov</td><td>77516.0</td><td> Bachelors</td><td>13.0</td><td> Never-married</td><td> Adm-clerical</td><td> Not-in-family</td><td> White</td><td> Male</td><td>2174.0</td><td>0.0</td><td>40.0</td><td> United-States</td><td> <=50K</td></tr><tr><td>50.0</td><td> Self-emp-not-inc</td><td>83311.0</td><td> Bachelors</td><td>13.0</td><td> Married-civ-spouse</td><td> Exec-managerial</td><td> Husband</td><td> White</td><td> Male</td><td>0.0</td><td>0.0</td><td>13.0</td><td> United-States</td><td> <=50K</td></tr><tr><td>38.0</td><td> Private</td><td>215646.0</td><td> HS-grad</td><td>9.0</td><td> Divorced</td><td> Handlers-cleaners</td><td> Not-in-family</td><td> White</td><td> Male</td><td>0.0</td><td>0.0</td><td>40.0</td><td> United-States</td><td> <=50K</td></tr><tr><td>53.0</td><td> Private</td><td>234721.0</td><td> 11th</td><td>7.0</td><td> Married-civ-spouse</td><td> Handlers-cleaners</td><td> Husband</td><td> Black</td><td> Male</td><td>0.0</td><td>0.0</td><td>40.0</td><td> United-States</td><td> <=50K</td></tr><tr><td>28.0</td><td> Private</td><td>338409.0</td><td> Bachelors</td><td>13.0</td><td> Married-civ-spouse</td><td> Prof-specialty</td><td> Wife</td><td> Black</td><td> Female</td><td>0.0</td><td>0.0</td><td>40.0</td><td> Cuba</td><td> <=50K</td></tr></tbody></table></div>"
      ]
     },
     "metadata": {
      "application/vnd.databricks.v1+output": {
       "addedWidgets": {},
       "aggData": [],
       "aggError": "",
       "aggOverflow": false,
       "aggSchema": [],
       "aggSeriesLimitReached": false,
       "aggType": "",
       "arguments": {},
       "columnCustomDisplayInfos": {},
       "data": [
        [
         39.0,
         " State-gov",
         77516.0,
         " Bachelors",
         13.0,
         " Never-married",
         " Adm-clerical",
         " Not-in-family",
         " White",
         " Male",
         2174.0,
         0.0,
         40.0,
         " United-States",
         " <=50K"
        ],
        [
         50.0,
         " Self-emp-not-inc",
         83311.0,
         " Bachelors",
         13.0,
         " Married-civ-spouse",
         " Exec-managerial",
         " Husband",
         " White",
         " Male",
         0.0,
         0.0,
         13.0,
         " United-States",
         " <=50K"
        ],
        [
         38.0,
         " Private",
         215646.0,
         " HS-grad",
         9.0,
         " Divorced",
         " Handlers-cleaners",
         " Not-in-family",
         " White",
         " Male",
         0.0,
         0.0,
         40.0,
         " United-States",
         " <=50K"
        ],
        [
         53.0,
         " Private",
         234721.0,
         " 11th",
         7.0,
         " Married-civ-spouse",
         " Handlers-cleaners",
         " Husband",
         " Black",
         " Male",
         0.0,
         0.0,
         40.0,
         " United-States",
         " <=50K"
        ],
        [
         28.0,
         " Private",
         338409.0,
         " Bachelors",
         13.0,
         " Married-civ-spouse",
         " Prof-specialty",
         " Wife",
         " Black",
         " Female",
         0.0,
         0.0,
         40.0,
         " Cuba",
         " <=50K"
        ]
       ],
       "datasetInfos": [],
       "dbfsResultPath": null,
       "isJsonSchema": true,
       "metadata": {},
       "overflow": false,
       "plotOptions": {
        "customPlotOptions": {},
        "displayType": "table",
        "pivotAggregation": null,
        "pivotColumns": null,
        "xColumns": null,
        "yColumns": null
       },
       "removedWidgets": [],
       "schema": [
        {
         "metadata": "{}",
         "name": "age",
         "type": "\"double\""
        },
        {
         "metadata": "{}",
         "name": "workclass",
         "type": "\"string\""
        },
        {
         "metadata": "{}",
         "name": "fnlwgt",
         "type": "\"double\""
        },
        {
         "metadata": "{}",
         "name": "education",
         "type": "\"string\""
        },
        {
         "metadata": "{}",
         "name": "education_num",
         "type": "\"double\""
        },
        {
         "metadata": "{}",
         "name": "marital_status",
         "type": "\"string\""
        },
        {
         "metadata": "{}",
         "name": "occupation",
         "type": "\"string\""
        },
        {
         "metadata": "{}",
         "name": "relationship",
         "type": "\"string\""
        },
        {
         "metadata": "{}",
         "name": "race",
         "type": "\"string\""
        },
        {
         "metadata": "{}",
         "name": "sex",
         "type": "\"string\""
        },
        {
         "metadata": "{}",
         "name": "capital_gain",
         "type": "\"double\""
        },
        {
         "metadata": "{}",
         "name": "capital_loss",
         "type": "\"double\""
        },
        {
         "metadata": "{}",
         "name": "hours_per_week",
         "type": "\"double\""
        },
        {
         "metadata": "{}",
         "name": "native_country",
         "type": "\"string\""
        },
        {
         "metadata": "{}",
         "name": "income",
         "type": "\"string\""
        }
       ],
       "type": "table"
      }
     },
     "output_type": "display_data"
    }
   ],
   "source": [
    "display(df.head(5))"
   ]
  },
  {
   "cell_type": "code",
   "execution_count": 0,
   "metadata": {
    "application/vnd.databricks.v1+cell": {
     "cellMetadata": {
      "byteLimit": 2048000,
      "rowLimit": 10000
     },
     "inputWidgets": {},
     "nuid": "8315e808-c4b0-40dd-a2c9-a200c2e645ac",
     "showTitle": false,
     "title": ""
    }
   },
   "outputs": [
    {
     "output_type": "stream",
     "name": "stdout",
     "output_type": "stream",
     "text": [
      "root\n |-- age: double (nullable = true)\n |-- workclass: string (nullable = true)\n |-- fnlwgt: double (nullable = true)\n |-- education: string (nullable = true)\n |-- education_num: double (nullable = true)\n |-- marital_status: string (nullable = true)\n |-- occupation: string (nullable = true)\n |-- relationship: string (nullable = true)\n |-- race: string (nullable = true)\n |-- sex: string (nullable = true)\n |-- capital_gain: double (nullable = true)\n |-- capital_loss: double (nullable = true)\n |-- hours_per_week: double (nullable = true)\n |-- native_country: string (nullable = true)\n |-- income: string (nullable = true)\n\n"
     ]
    }
   ],
   "source": [
    "df.printSchema()"
   ]
  },
  {
   "cell_type": "code",
   "execution_count": 0,
   "metadata": {
    "application/vnd.databricks.v1+cell": {
     "cellMetadata": {
      "byteLimit": 2048000,
      "rowLimit": 10000
     },
     "inputWidgets": {},
     "nuid": "3655a082-6171-4056-bebc-02642b4380d5",
     "showTitle": false,
     "title": ""
    }
   },
   "outputs": [
    {
     "output_type": "display_data",
     "data": {
      "text/html": [
       "<style scoped>\n",
       "  .table-result-container {\n",
       "    max-height: 300px;\n",
       "    overflow: auto;\n",
       "  }\n",
       "  table, th, td {\n",
       "    border: 1px solid black;\n",
       "    border-collapse: collapse;\n",
       "  }\n",
       "  th, td {\n",
       "    padding: 5px;\n",
       "  }\n",
       "  th {\n",
       "    text-align: left;\n",
       "  }\n",
       "</style><div class='table-result-container'><table class='table-result'><thead style='background-color: white'><tr><th>age</th><th>workclass</th><th>fnlwgt</th><th>education</th><th>education_num</th><th>marital_status</th><th>occupation</th><th>relationship</th><th>race</th><th>sex</th><th>capital_gain</th><th>capital_loss</th><th>hours_per_week</th><th>native_country</th><th>income</th></tr></thead><tbody><tr><td>17.0</td><td> Private</td><td>270942.0</td><td> 5th-6th</td><td>3.0</td><td> Never-married</td><td> Other-service</td><td> Other-relative</td><td> White</td><td> Male</td><td>0.0</td><td>0.0</td><td>48.0</td><td> Mexico</td><td> <=50K</td></tr><tr><td>17.0</td><td> Private</td><td>168807.0</td><td> 7th-8th</td><td>4.0</td><td> Never-married</td><td> Craft-repair</td><td> Not-in-family</td><td> White</td><td> Male</td><td>0.0</td><td>0.0</td><td>45.0</td><td> United-States</td><td> <=50K</td></tr><tr><td>17.0</td><td> Private</td><td>168203.0</td><td> 7th-8th</td><td>4.0</td><td> Never-married</td><td> Farming-fishing</td><td> Other-relative</td><td> Other</td><td> Male</td><td>0.0</td><td>0.0</td><td>40.0</td><td> Mexico</td><td> <=50K</td></tr><tr><td>17.0</td><td> Private</td><td>46402.0</td><td> 7th-8th</td><td>4.0</td><td> Never-married</td><td> Sales</td><td> Own-child</td><td> White</td><td> Male</td><td>0.0</td><td>0.0</td><td>8.0</td><td> United-States</td><td> <=50K</td></tr><tr><td>17.0</td><td> ?</td><td>127003.0</td><td> 9th</td><td>5.0</td><td> Never-married</td><td> ?</td><td> Own-child</td><td> Black</td><td> Male</td><td>0.0</td><td>0.0</td><td>40.0</td><td> United-States</td><td> <=50K</td></tr></tbody></table></div>"
      ]
     },
     "metadata": {
      "application/vnd.databricks.v1+output": {
       "addedWidgets": {},
       "aggData": [],
       "aggError": "",
       "aggOverflow": false,
       "aggSchema": [],
       "aggSeriesLimitReached": false,
       "aggType": "",
       "arguments": {},
       "columnCustomDisplayInfos": {},
       "data": [
        [
         17.0,
         " Private",
         270942.0,
         " 5th-6th",
         3.0,
         " Never-married",
         " Other-service",
         " Other-relative",
         " White",
         " Male",
         0.0,
         0.0,
         48.0,
         " Mexico",
         " <=50K"
        ],
        [
         17.0,
         " Private",
         168807.0,
         " 7th-8th",
         4.0,
         " Never-married",
         " Craft-repair",
         " Not-in-family",
         " White",
         " Male",
         0.0,
         0.0,
         45.0,
         " United-States",
         " <=50K"
        ],
        [
         17.0,
         " Private",
         168203.0,
         " 7th-8th",
         4.0,
         " Never-married",
         " Farming-fishing",
         " Other-relative",
         " Other",
         " Male",
         0.0,
         0.0,
         40.0,
         " Mexico",
         " <=50K"
        ],
        [
         17.0,
         " Private",
         46402.0,
         " 7th-8th",
         4.0,
         " Never-married",
         " Sales",
         " Own-child",
         " White",
         " Male",
         0.0,
         0.0,
         8.0,
         " United-States",
         " <=50K"
        ],
        [
         17.0,
         " ?",
         127003.0,
         " 9th",
         5.0,
         " Never-married",
         " ?",
         " Own-child",
         " Black",
         " Male",
         0.0,
         0.0,
         40.0,
         " United-States",
         " <=50K"
        ]
       ],
       "datasetInfos": [],
       "dbfsResultPath": null,
       "isJsonSchema": true,
       "metadata": {},
       "overflow": false,
       "plotOptions": {
        "customPlotOptions": {},
        "displayType": "table",
        "pivotAggregation": null,
        "pivotColumns": null,
        "xColumns": null,
        "yColumns": null
       },
       "removedWidgets": [],
       "schema": [
        {
         "metadata": "{}",
         "name": "age",
         "type": "\"double\""
        },
        {
         "metadata": "{}",
         "name": "workclass",
         "type": "\"string\""
        },
        {
         "metadata": "{}",
         "name": "fnlwgt",
         "type": "\"double\""
        },
        {
         "metadata": "{}",
         "name": "education",
         "type": "\"string\""
        },
        {
         "metadata": "{}",
         "name": "education_num",
         "type": "\"double\""
        },
        {
         "metadata": "{}",
         "name": "marital_status",
         "type": "\"string\""
        },
        {
         "metadata": "{}",
         "name": "occupation",
         "type": "\"string\""
        },
        {
         "metadata": "{}",
         "name": "relationship",
         "type": "\"string\""
        },
        {
         "metadata": "{}",
         "name": "race",
         "type": "\"string\""
        },
        {
         "metadata": "{}",
         "name": "sex",
         "type": "\"string\""
        },
        {
         "metadata": "{}",
         "name": "capital_gain",
         "type": "\"double\""
        },
        {
         "metadata": "{}",
         "name": "capital_loss",
         "type": "\"double\""
        },
        {
         "metadata": "{}",
         "name": "hours_per_week",
         "type": "\"double\""
        },
        {
         "metadata": "{}",
         "name": "native_country",
         "type": "\"string\""
        },
        {
         "metadata": "{}",
         "name": "income",
         "type": "\"string\""
        }
       ],
       "type": "table"
      }
     },
     "output_type": "display_data"
    }
   ],
   "source": [
    "display(df.sort(['age', 'education_num'], ascending=[True, True]).head(5))"
   ]
  },
  {
   "cell_type": "code",
   "execution_count": 0,
   "metadata": {
    "application/vnd.databricks.v1+cell": {
     "cellMetadata": {
      "byteLimit": 2048000,
      "rowLimit": 10000
     },
     "inputWidgets": {},
     "nuid": "26fda576-4b90-44f9-9b9b-b68eeaa366bd",
     "showTitle": false,
     "title": ""
    }
   },
   "outputs": [
    {
     "output_type": "display_data",
     "data": {
      "text/html": [
       "<style scoped>\n",
       "  .table-result-container {\n",
       "    max-height: 300px;\n",
       "    overflow: auto;\n",
       "  }\n",
       "  table, th, td {\n",
       "    border: 1px solid black;\n",
       "    border-collapse: collapse;\n",
       "  }\n",
       "  th, td {\n",
       "    padding: 5px;\n",
       "  }\n",
       "  th {\n",
       "    text-align: left;\n",
       "  }\n",
       "</style><div class='table-result-container'><table class='table-result'><thead style='background-color: white'><tr><th>age</th><th>workclass</th><th>fnlwgt</th><th>education</th><th>education_num</th><th>marital_status</th><th>occupation</th><th>relationship</th><th>race</th><th>sex</th><th>capital_gain</th><th>capital_loss</th><th>hours_per_week</th><th>native_country</th><th>income</th><th>DenseRank</th></tr></thead><tbody><tr><td>17.0</td><td> Private</td><td>270942.0</td><td> 5th-6th</td><td>3.0</td><td> Never-married</td><td> Other-service</td><td> Other-relative</td><td> White</td><td> Male</td><td>0.0</td><td>0.0</td><td>48.0</td><td> Mexico</td><td> <=50K</td><td>1</td></tr><tr><td>17.0</td><td> Private</td><td>168807.0</td><td> 7th-8th</td><td>4.0</td><td> Never-married</td><td> Craft-repair</td><td> Not-in-family</td><td> White</td><td> Male</td><td>0.0</td><td>0.0</td><td>45.0</td><td> United-States</td><td> <=50K</td><td>2</td></tr><tr><td>17.0</td><td> Private</td><td>168203.0</td><td> 7th-8th</td><td>4.0</td><td> Never-married</td><td> Farming-fishing</td><td> Other-relative</td><td> Other</td><td> Male</td><td>0.0</td><td>0.0</td><td>40.0</td><td> Mexico</td><td> <=50K</td><td>2</td></tr><tr><td>17.0</td><td> Private</td><td>46402.0</td><td> 7th-8th</td><td>4.0</td><td> Never-married</td><td> Sales</td><td> Own-child</td><td> White</td><td> Male</td><td>0.0</td><td>0.0</td><td>8.0</td><td> United-States</td><td> <=50K</td><td>2</td></tr><tr><td>17.0</td><td> Private</td><td>191260.0</td><td> 9th</td><td>5.0</td><td> Never-married</td><td> Other-service</td><td> Own-child</td><td> White</td><td> Male</td><td>1055.0</td><td>0.0</td><td>24.0</td><td> United-States</td><td> <=50K</td><td>3</td></tr><tr><td>17.0</td><td> Private</td><td>211870.0</td><td> 9th</td><td>5.0</td><td> Never-married</td><td> Other-service</td><td> Not-in-family</td><td> White</td><td> Male</td><td>0.0</td><td>0.0</td><td>6.0</td><td> United-States</td><td> <=50K</td><td>3</td></tr><tr><td>17.0</td><td> Local-gov</td><td>32124.0</td><td> 9th</td><td>5.0</td><td> Never-married</td><td> Other-service</td><td> Own-child</td><td> Black</td><td> Male</td><td>0.0</td><td>0.0</td><td>9.0</td><td> United-States</td><td> <=50K</td><td>3</td></tr><tr><td>17.0</td><td> ?</td><td>127003.0</td><td> 9th</td><td>5.0</td><td> Never-married</td><td> ?</td><td> Own-child</td><td> Black</td><td> Male</td><td>0.0</td><td>0.0</td><td>40.0</td><td> United-States</td><td> <=50K</td><td>3</td></tr><tr><td>17.0</td><td> Private</td><td>221129.0</td><td> 9th</td><td>5.0</td><td> Married-civ-spouse</td><td> Other-service</td><td> Husband</td><td> White</td><td> Male</td><td>0.0</td><td>0.0</td><td>40.0</td><td> United-States</td><td> <=50K</td><td>3</td></tr><tr><td>17.0</td><td> ?</td><td>275778.0</td><td> 9th</td><td>5.0</td><td> Never-married</td><td> ?</td><td> Own-child</td><td> White</td><td> Female</td><td>0.0</td><td>0.0</td><td>25.0</td><td> Mexico</td><td> <=50K</td><td>3</td></tr><tr><td>17.0</td><td> Private</td><td>166290.0</td><td> 9th</td><td>5.0</td><td> Never-married</td><td> Other-service</td><td> Own-child</td><td> White</td><td> Female</td><td>0.0</td><td>0.0</td><td>20.0</td><td> United-States</td><td> <=50K</td><td>3</td></tr><tr><td>17.0</td><td> Private</td><td>73145.0</td><td> 9th</td><td>5.0</td><td> Never-married</td><td> Craft-repair</td><td> Own-child</td><td> White</td><td> Female</td><td>0.0</td><td>0.0</td><td>16.0</td><td> United-States</td><td> <=50K</td><td>3</td></tr><tr><td>17.0</td><td> Self-emp-inc</td><td>413557.0</td><td> 9th</td><td>5.0</td><td> Never-married</td><td> Sales</td><td> Own-child</td><td> White</td><td> Female</td><td>0.0</td><td>0.0</td><td>40.0</td><td> United-States</td><td> <=50K</td><td>3</td></tr><tr><td>17.0</td><td> Private</td><td>133449.0</td><td> 9th</td><td>5.0</td><td> Never-married</td><td> Other-service</td><td> Own-child</td><td> Black</td><td> Male</td><td>0.0</td><td>0.0</td><td>26.0</td><td> United-States</td><td> <=50K</td><td>3</td></tr><tr><td>17.0</td><td> Private</td><td>176467.0</td><td> 9th</td><td>5.0</td><td> Never-married</td><td> Transport-moving</td><td> Not-in-family</td><td> White</td><td> Male</td><td>0.0</td><td>0.0</td><td>20.0</td><td> United-States</td><td> <=50K</td><td>3</td></tr></tbody></table></div>"
      ]
     },
     "metadata": {
      "application/vnd.databricks.v1+output": {
       "addedWidgets": {},
       "aggData": [],
       "aggError": "",
       "aggOverflow": false,
       "aggSchema": [],
       "aggSeriesLimitReached": false,
       "aggType": "",
       "arguments": {},
       "columnCustomDisplayInfos": {},
       "data": [
        [
         17.0,
         " Private",
         270942.0,
         " 5th-6th",
         3.0,
         " Never-married",
         " Other-service",
         " Other-relative",
         " White",
         " Male",
         0.0,
         0.0,
         48.0,
         " Mexico",
         " <=50K",
         1
        ],
        [
         17.0,
         " Private",
         168807.0,
         " 7th-8th",
         4.0,
         " Never-married",
         " Craft-repair",
         " Not-in-family",
         " White",
         " Male",
         0.0,
         0.0,
         45.0,
         " United-States",
         " <=50K",
         2
        ],
        [
         17.0,
         " Private",
         168203.0,
         " 7th-8th",
         4.0,
         " Never-married",
         " Farming-fishing",
         " Other-relative",
         " Other",
         " Male",
         0.0,
         0.0,
         40.0,
         " Mexico",
         " <=50K",
         2
        ],
        [
         17.0,
         " Private",
         46402.0,
         " 7th-8th",
         4.0,
         " Never-married",
         " Sales",
         " Own-child",
         " White",
         " Male",
         0.0,
         0.0,
         8.0,
         " United-States",
         " <=50K",
         2
        ],
        [
         17.0,
         " Private",
         191260.0,
         " 9th",
         5.0,
         " Never-married",
         " Other-service",
         " Own-child",
         " White",
         " Male",
         1055.0,
         0.0,
         24.0,
         " United-States",
         " <=50K",
         3
        ],
        [
         17.0,
         " Private",
         211870.0,
         " 9th",
         5.0,
         " Never-married",
         " Other-service",
         " Not-in-family",
         " White",
         " Male",
         0.0,
         0.0,
         6.0,
         " United-States",
         " <=50K",
         3
        ],
        [
         17.0,
         " Local-gov",
         32124.0,
         " 9th",
         5.0,
         " Never-married",
         " Other-service",
         " Own-child",
         " Black",
         " Male",
         0.0,
         0.0,
         9.0,
         " United-States",
         " <=50K",
         3
        ],
        [
         17.0,
         " ?",
         127003.0,
         " 9th",
         5.0,
         " Never-married",
         " ?",
         " Own-child",
         " Black",
         " Male",
         0.0,
         0.0,
         40.0,
         " United-States",
         " <=50K",
         3
        ],
        [
         17.0,
         " Private",
         221129.0,
         " 9th",
         5.0,
         " Married-civ-spouse",
         " Other-service",
         " Husband",
         " White",
         " Male",
         0.0,
         0.0,
         40.0,
         " United-States",
         " <=50K",
         3
        ],
        [
         17.0,
         " ?",
         275778.0,
         " 9th",
         5.0,
         " Never-married",
         " ?",
         " Own-child",
         " White",
         " Female",
         0.0,
         0.0,
         25.0,
         " Mexico",
         " <=50K",
         3
        ],
        [
         17.0,
         " Private",
         166290.0,
         " 9th",
         5.0,
         " Never-married",
         " Other-service",
         " Own-child",
         " White",
         " Female",
         0.0,
         0.0,
         20.0,
         " United-States",
         " <=50K",
         3
        ],
        [
         17.0,
         " Private",
         73145.0,
         " 9th",
         5.0,
         " Never-married",
         " Craft-repair",
         " Own-child",
         " White",
         " Female",
         0.0,
         0.0,
         16.0,
         " United-States",
         " <=50K",
         3
        ],
        [
         17.0,
         " Self-emp-inc",
         413557.0,
         " 9th",
         5.0,
         " Never-married",
         " Sales",
         " Own-child",
         " White",
         " Female",
         0.0,
         0.0,
         40.0,
         " United-States",
         " <=50K",
         3
        ],
        [
         17.0,
         " Private",
         133449.0,
         " 9th",
         5.0,
         " Never-married",
         " Other-service",
         " Own-child",
         " Black",
         " Male",
         0.0,
         0.0,
         26.0,
         " United-States",
         " <=50K",
         3
        ],
        [
         17.0,
         " Private",
         176467.0,
         " 9th",
         5.0,
         " Never-married",
         " Transport-moving",
         " Not-in-family",
         " White",
         " Male",
         0.0,
         0.0,
         20.0,
         " United-States",
         " <=50K",
         3
        ]
       ],
       "datasetInfos": [],
       "dbfsResultPath": null,
       "isJsonSchema": true,
       "metadata": {},
       "overflow": false,
       "plotOptions": {
        "customPlotOptions": {},
        "displayType": "table",
        "pivotAggregation": null,
        "pivotColumns": null,
        "xColumns": null,
        "yColumns": null
       },
       "removedWidgets": [],
       "schema": [
        {
         "metadata": "{}",
         "name": "age",
         "type": "\"double\""
        },
        {
         "metadata": "{}",
         "name": "workclass",
         "type": "\"string\""
        },
        {
         "metadata": "{}",
         "name": "fnlwgt",
         "type": "\"double\""
        },
        {
         "metadata": "{}",
         "name": "education",
         "type": "\"string\""
        },
        {
         "metadata": "{}",
         "name": "education_num",
         "type": "\"double\""
        },
        {
         "metadata": "{}",
         "name": "marital_status",
         "type": "\"string\""
        },
        {
         "metadata": "{}",
         "name": "occupation",
         "type": "\"string\""
        },
        {
         "metadata": "{}",
         "name": "relationship",
         "type": "\"string\""
        },
        {
         "metadata": "{}",
         "name": "race",
         "type": "\"string\""
        },
        {
         "metadata": "{}",
         "name": "sex",
         "type": "\"string\""
        },
        {
         "metadata": "{}",
         "name": "capital_gain",
         "type": "\"double\""
        },
        {
         "metadata": "{}",
         "name": "capital_loss",
         "type": "\"double\""
        },
        {
         "metadata": "{}",
         "name": "hours_per_week",
         "type": "\"double\""
        },
        {
         "metadata": "{}",
         "name": "native_country",
         "type": "\"string\""
        },
        {
         "metadata": "{}",
         "name": "income",
         "type": "\"string\""
        },
        {
         "metadata": "{}",
         "name": "DenseRank",
         "type": "\"long\""
        }
       ],
       "type": "table"
      }
     },
     "output_type": "display_data"
    }
   ],
   "source": [
    "import pyspark.sql.functions as F\n",
    "from pyspark.sql.window import Window\n",
    "\n",
    "window_spec = Window.orderBy(\"age\", \"education_num\")\n",
    "df = df.withColumn(\"DenseRank\", F.dense_rank().over(window_spec))\n",
    "display(df[df['DenseRank'] <= 5].head(15))"
   ]
  },
  {
   "cell_type": "markdown",
   "metadata": {
    "application/vnd.databricks.v1+cell": {
     "cellMetadata": {},
     "inputWidgets": {},
     "nuid": "89d3565d-8244-4ffa-bc46-97d6fa111217",
     "showTitle": false,
     "title": ""
    }
   },
   "source": [
    "## Using SparkSQL"
   ]
  },
  {
   "cell_type": "code",
   "execution_count": 0,
   "metadata": {
    "application/vnd.databricks.v1+cell": {
     "cellMetadata": {
      "byteLimit": 2048000,
      "rowLimit": 10000
     },
     "inputWidgets": {},
     "nuid": "297691ad-92f3-4551-859c-a8c23b5a1951",
     "showTitle": false,
     "title": ""
    }
   },
   "outputs": [
    {
     "output_type": "display_data",
     "data": {
      "text/html": [
       "<style scoped>\n",
       "  .table-result-container {\n",
       "    max-height: 300px;\n",
       "    overflow: auto;\n",
       "  }\n",
       "  table, th, td {\n",
       "    border: 1px solid black;\n",
       "    border-collapse: collapse;\n",
       "  }\n",
       "  th, td {\n",
       "    padding: 5px;\n",
       "  }\n",
       "  th {\n",
       "    text-align: left;\n",
       "  }\n",
       "</style><div class='table-result-container'><table class='table-result'><thead style='background-color: white'><tr><th>age</th><th>workclass</th><th>fnlwgt</th><th>education</th><th>education_num</th><th>marital_status</th><th>occupation</th><th>relationship</th><th>race</th><th>sex</th><th>capital_gain</th><th>capital_loss</th><th>hours_per_week</th><th>native_country</th><th>income</th></tr></thead><tbody><tr><td>50.0</td><td> Self-emp-not-inc</td><td>83311.0</td><td> Bachelors</td><td>13.0</td><td> Married-civ-spouse</td><td> Exec-managerial</td><td> Husband</td><td> White</td><td> Male</td><td>0.0</td><td>0.0</td><td>13.0</td><td> United-States</td><td> <=50K</td></tr><tr><td>38.0</td><td> Private</td><td>215646.0</td><td> HS-grad</td><td>9.0</td><td> Divorced</td><td> Handlers-cleaners</td><td> Not-in-family</td><td> White</td><td> Male</td><td>0.0</td><td>0.0</td><td>40.0</td><td> United-States</td><td> <=50K</td></tr><tr><td>53.0</td><td> Private</td><td>234721.0</td><td> 11th</td><td>7.0</td><td> Married-civ-spouse</td><td> Handlers-cleaners</td><td> Husband</td><td> Black</td><td> Male</td><td>0.0</td><td>0.0</td><td>40.0</td><td> United-States</td><td> <=50K</td></tr><tr><td>28.0</td><td> Private</td><td>338409.0</td><td> Bachelors</td><td>13.0</td><td> Married-civ-spouse</td><td> Prof-specialty</td><td> Wife</td><td> Black</td><td> Female</td><td>0.0</td><td>0.0</td><td>40.0</td><td> Cuba</td><td> <=50K</td></tr><tr><td>37.0</td><td> Private</td><td>284582.0</td><td> Masters</td><td>14.0</td><td> Married-civ-spouse</td><td> Exec-managerial</td><td> Wife</td><td> White</td><td> Female</td><td>0.0</td><td>0.0</td><td>40.0</td><td> United-States</td><td> <=50K</td></tr></tbody></table></div>"
      ]
     },
     "metadata": {
      "application/vnd.databricks.v1+output": {
       "addedWidgets": {},
       "aggData": [],
       "aggError": "",
       "aggOverflow": false,
       "aggSchema": [],
       "aggSeriesLimitReached": false,
       "aggType": "",
       "arguments": {},
       "columnCustomDisplayInfos": {},
       "data": [
        [
         50.0,
         " Self-emp-not-inc",
         83311.0,
         " Bachelors",
         13.0,
         " Married-civ-spouse",
         " Exec-managerial",
         " Husband",
         " White",
         " Male",
         0.0,
         0.0,
         13.0,
         " United-States",
         " <=50K"
        ],
        [
         38.0,
         " Private",
         215646.0,
         " HS-grad",
         9.0,
         " Divorced",
         " Handlers-cleaners",
         " Not-in-family",
         " White",
         " Male",
         0.0,
         0.0,
         40.0,
         " United-States",
         " <=50K"
        ],
        [
         53.0,
         " Private",
         234721.0,
         " 11th",
         7.0,
         " Married-civ-spouse",
         " Handlers-cleaners",
         " Husband",
         " Black",
         " Male",
         0.0,
         0.0,
         40.0,
         " United-States",
         " <=50K"
        ],
        [
         28.0,
         " Private",
         338409.0,
         " Bachelors",
         13.0,
         " Married-civ-spouse",
         " Prof-specialty",
         " Wife",
         " Black",
         " Female",
         0.0,
         0.0,
         40.0,
         " Cuba",
         " <=50K"
        ],
        [
         37.0,
         " Private",
         284582.0,
         " Masters",
         14.0,
         " Married-civ-spouse",
         " Exec-managerial",
         " Wife",
         " White",
         " Female",
         0.0,
         0.0,
         40.0,
         " United-States",
         " <=50K"
        ]
       ],
       "datasetInfos": [],
       "dbfsResultPath": null,
       "isJsonSchema": true,
       "metadata": {},
       "overflow": false,
       "plotOptions": {
        "customPlotOptions": {},
        "displayType": "table",
        "pivotAggregation": null,
        "pivotColumns": null,
        "xColumns": null,
        "yColumns": null
       },
       "removedWidgets": [],
       "schema": [
        {
         "metadata": "{}",
         "name": "age",
         "type": "\"double\""
        },
        {
         "metadata": "{}",
         "name": "workclass",
         "type": "\"string\""
        },
        {
         "metadata": "{}",
         "name": "fnlwgt",
         "type": "\"double\""
        },
        {
         "metadata": "{}",
         "name": "education",
         "type": "\"string\""
        },
        {
         "metadata": "{}",
         "name": "education_num",
         "type": "\"double\""
        },
        {
         "metadata": "{}",
         "name": "marital_status",
         "type": "\"string\""
        },
        {
         "metadata": "{}",
         "name": "occupation",
         "type": "\"string\""
        },
        {
         "metadata": "{}",
         "name": "relationship",
         "type": "\"string\""
        },
        {
         "metadata": "{}",
         "name": "race",
         "type": "\"string\""
        },
        {
         "metadata": "{}",
         "name": "sex",
         "type": "\"string\""
        },
        {
         "metadata": "{}",
         "name": "capital_gain",
         "type": "\"double\""
        },
        {
         "metadata": "{}",
         "name": "capital_loss",
         "type": "\"double\""
        },
        {
         "metadata": "{}",
         "name": "hours_per_week",
         "type": "\"double\""
        },
        {
         "metadata": "{}",
         "name": "native_country",
         "type": "\"string\""
        },
        {
         "metadata": "{}",
         "name": "income",
         "type": "\"string\""
        }
       ],
       "type": "table"
      }
     },
     "output_type": "display_data"
    }
   ],
   "source": [
    "display(spark.sql(\"SELECT * FROM adult LIMIT 5\"))"
   ]
  },
  {
   "cell_type": "code",
   "execution_count": 0,
   "metadata": {
    "application/vnd.databricks.v1+cell": {
     "cellMetadata": {
      "byteLimit": 2048000,
      "rowLimit": 10000
     },
     "inputWidgets": {},
     "nuid": "4deb7cfb-4fa3-47a7-bab2-d87507f07e02",
     "showTitle": false,
     "title": ""
    }
   },
   "outputs": [
    {
     "output_type": "display_data",
     "data": {
      "text/html": [
       "<style scoped>\n",
       "  .table-result-container {\n",
       "    max-height: 300px;\n",
       "    overflow: auto;\n",
       "  }\n",
       "  table, th, td {\n",
       "    border: 1px solid black;\n",
       "    border-collapse: collapse;\n",
       "  }\n",
       "  th, td {\n",
       "    padding: 5px;\n",
       "  }\n",
       "  th {\n",
       "    text-align: left;\n",
       "  }\n",
       "</style><div class='table-result-container'><table class='table-result'><thead style='background-color: white'><tr><th>age</th><th>workclass</th><th>fnlwgt</th><th>education</th><th>education_num</th><th>marital_status</th><th>occupation</th><th>relationship</th><th>race</th><th>sex</th><th>capital_gain</th><th>capital_loss</th><th>hours_per_week</th><th>native_country</th><th>income</th></tr></thead><tbody><tr><td>17.0</td><td> Private</td><td>270942.0</td><td> 5th-6th</td><td>3.0</td><td> Never-married</td><td> Other-service</td><td> Other-relative</td><td> White</td><td> Male</td><td>0.0</td><td>0.0</td><td>48.0</td><td> Mexico</td><td> <=50K</td></tr><tr><td>17.0</td><td> Private</td><td>168807.0</td><td> 7th-8th</td><td>4.0</td><td> Never-married</td><td> Craft-repair</td><td> Not-in-family</td><td> White</td><td> Male</td><td>0.0</td><td>0.0</td><td>45.0</td><td> United-States</td><td> <=50K</td></tr><tr><td>17.0</td><td> Private</td><td>168203.0</td><td> 7th-8th</td><td>4.0</td><td> Never-married</td><td> Farming-fishing</td><td> Other-relative</td><td> Other</td><td> Male</td><td>0.0</td><td>0.0</td><td>40.0</td><td> Mexico</td><td> <=50K</td></tr><tr><td>17.0</td><td> Private</td><td>46402.0</td><td> 7th-8th</td><td>4.0</td><td> Never-married</td><td> Sales</td><td> Own-child</td><td> White</td><td> Male</td><td>0.0</td><td>0.0</td><td>8.0</td><td> United-States</td><td> <=50K</td></tr><tr><td>17.0</td><td> ?</td><td>127003.0</td><td> 9th</td><td>5.0</td><td> Never-married</td><td> ?</td><td> Own-child</td><td> Black</td><td> Male</td><td>0.0</td><td>0.0</td><td>40.0</td><td> United-States</td><td> <=50K</td></tr></tbody></table></div>"
      ]
     },
     "metadata": {
      "application/vnd.databricks.v1+output": {
       "addedWidgets": {},
       "aggData": [],
       "aggError": "",
       "aggOverflow": false,
       "aggSchema": [],
       "aggSeriesLimitReached": false,
       "aggType": "",
       "arguments": {},
       "columnCustomDisplayInfos": {},
       "data": [
        [
         17.0,
         " Private",
         270942.0,
         " 5th-6th",
         3.0,
         " Never-married",
         " Other-service",
         " Other-relative",
         " White",
         " Male",
         0.0,
         0.0,
         48.0,
         " Mexico",
         " <=50K"
        ],
        [
         17.0,
         " Private",
         168807.0,
         " 7th-8th",
         4.0,
         " Never-married",
         " Craft-repair",
         " Not-in-family",
         " White",
         " Male",
         0.0,
         0.0,
         45.0,
         " United-States",
         " <=50K"
        ],
        [
         17.0,
         " Private",
         168203.0,
         " 7th-8th",
         4.0,
         " Never-married",
         " Farming-fishing",
         " Other-relative",
         " Other",
         " Male",
         0.0,
         0.0,
         40.0,
         " Mexico",
         " <=50K"
        ],
        [
         17.0,
         " Private",
         46402.0,
         " 7th-8th",
         4.0,
         " Never-married",
         " Sales",
         " Own-child",
         " White",
         " Male",
         0.0,
         0.0,
         8.0,
         " United-States",
         " <=50K"
        ],
        [
         17.0,
         " ?",
         127003.0,
         " 9th",
         5.0,
         " Never-married",
         " ?",
         " Own-child",
         " Black",
         " Male",
         0.0,
         0.0,
         40.0,
         " United-States",
         " <=50K"
        ]
       ],
       "datasetInfos": [],
       "dbfsResultPath": null,
       "isJsonSchema": true,
       "metadata": {},
       "overflow": false,
       "plotOptions": {
        "customPlotOptions": {},
        "displayType": "table",
        "pivotAggregation": null,
        "pivotColumns": null,
        "xColumns": null,
        "yColumns": null
       },
       "removedWidgets": [],
       "schema": [
        {
         "metadata": "{}",
         "name": "age",
         "type": "\"double\""
        },
        {
         "metadata": "{}",
         "name": "workclass",
         "type": "\"string\""
        },
        {
         "metadata": "{}",
         "name": "fnlwgt",
         "type": "\"double\""
        },
        {
         "metadata": "{}",
         "name": "education",
         "type": "\"string\""
        },
        {
         "metadata": "{}",
         "name": "education_num",
         "type": "\"double\""
        },
        {
         "metadata": "{}",
         "name": "marital_status",
         "type": "\"string\""
        },
        {
         "metadata": "{}",
         "name": "occupation",
         "type": "\"string\""
        },
        {
         "metadata": "{}",
         "name": "relationship",
         "type": "\"string\""
        },
        {
         "metadata": "{}",
         "name": "race",
         "type": "\"string\""
        },
        {
         "metadata": "{}",
         "name": "sex",
         "type": "\"string\""
        },
        {
         "metadata": "{}",
         "name": "capital_gain",
         "type": "\"double\""
        },
        {
         "metadata": "{}",
         "name": "capital_loss",
         "type": "\"double\""
        },
        {
         "metadata": "{}",
         "name": "hours_per_week",
         "type": "\"double\""
        },
        {
         "metadata": "{}",
         "name": "native_country",
         "type": "\"string\""
        },
        {
         "metadata": "{}",
         "name": "income",
         "type": "\"string\""
        }
       ],
       "type": "table"
      }
     },
     "output_type": "display_data"
    }
   ],
   "source": [
    "display(spark.sql(\"SELECT * FROM adult ORDER BY age asc, education_num asc LIMIT 5\"))"
   ]
  },
  {
   "cell_type": "code",
   "execution_count": 0,
   "metadata": {
    "application/vnd.databricks.v1+cell": {
     "cellMetadata": {
      "byteLimit": 2048000,
      "rowLimit": 10000
     },
     "inputWidgets": {},
     "nuid": "e04f0dc0-4447-473a-b4c0-e9a28685c7e9",
     "showTitle": false,
     "title": ""
    }
   },
   "outputs": [
    {
     "output_type": "display_data",
     "data": {
      "text/html": [
       "<style scoped>\n",
       "  .table-result-container {\n",
       "    max-height: 300px;\n",
       "    overflow: auto;\n",
       "  }\n",
       "  table, th, td {\n",
       "    border: 1px solid black;\n",
       "    border-collapse: collapse;\n",
       "  }\n",
       "  th, td {\n",
       "    padding: 5px;\n",
       "  }\n",
       "  th {\n",
       "    text-align: left;\n",
       "  }\n",
       "</style><div class='table-result-container'><table class='table-result'><thead style='background-color: white'><tr><th>age</th><th>workclass</th><th>fnlwgt</th><th>education</th><th>education_num</th><th>marital_status</th><th>occupation</th><th>relationship</th><th>race</th><th>sex</th><th>capital_gain</th><th>capital_loss</th><th>hours_per_week</th><th>native_country</th><th>income</th><th>rank_</th></tr></thead><tbody><tr><td>17.0</td><td> Private</td><td>270942.0</td><td> 5th-6th</td><td>3.0</td><td> Never-married</td><td> Other-service</td><td> Other-relative</td><td> White</td><td> Male</td><td>0.0</td><td>0.0</td><td>48.0</td><td> Mexico</td><td> <=50K</td><td>1</td></tr><tr><td>17.0</td><td> Private</td><td>168807.0</td><td> 7th-8th</td><td>4.0</td><td> Never-married</td><td> Craft-repair</td><td> Not-in-family</td><td> White</td><td> Male</td><td>0.0</td><td>0.0</td><td>45.0</td><td> United-States</td><td> <=50K</td><td>2</td></tr><tr><td>17.0</td><td> Private</td><td>168203.0</td><td> 7th-8th</td><td>4.0</td><td> Never-married</td><td> Farming-fishing</td><td> Other-relative</td><td> Other</td><td> Male</td><td>0.0</td><td>0.0</td><td>40.0</td><td> Mexico</td><td> <=50K</td><td>2</td></tr><tr><td>17.0</td><td> Private</td><td>46402.0</td><td> 7th-8th</td><td>4.0</td><td> Never-married</td><td> Sales</td><td> Own-child</td><td> White</td><td> Male</td><td>0.0</td><td>0.0</td><td>8.0</td><td> United-States</td><td> <=50K</td><td>2</td></tr><tr><td>17.0</td><td> Private</td><td>191260.0</td><td> 9th</td><td>5.0</td><td> Never-married</td><td> Other-service</td><td> Own-child</td><td> White</td><td> Male</td><td>1055.0</td><td>0.0</td><td>24.0</td><td> United-States</td><td> <=50K</td><td>3</td></tr><tr><td>17.0</td><td> Private</td><td>211870.0</td><td> 9th</td><td>5.0</td><td> Never-married</td><td> Other-service</td><td> Not-in-family</td><td> White</td><td> Male</td><td>0.0</td><td>0.0</td><td>6.0</td><td> United-States</td><td> <=50K</td><td>3</td></tr><tr><td>17.0</td><td> Local-gov</td><td>32124.0</td><td> 9th</td><td>5.0</td><td> Never-married</td><td> Other-service</td><td> Own-child</td><td> Black</td><td> Male</td><td>0.0</td><td>0.0</td><td>9.0</td><td> United-States</td><td> <=50K</td><td>3</td></tr><tr><td>17.0</td><td> ?</td><td>127003.0</td><td> 9th</td><td>5.0</td><td> Never-married</td><td> ?</td><td> Own-child</td><td> Black</td><td> Male</td><td>0.0</td><td>0.0</td><td>40.0</td><td> United-States</td><td> <=50K</td><td>3</td></tr><tr><td>17.0</td><td> Private</td><td>221129.0</td><td> 9th</td><td>5.0</td><td> Married-civ-spouse</td><td> Other-service</td><td> Husband</td><td> White</td><td> Male</td><td>0.0</td><td>0.0</td><td>40.0</td><td> United-States</td><td> <=50K</td><td>3</td></tr><tr><td>17.0</td><td> ?</td><td>275778.0</td><td> 9th</td><td>5.0</td><td> Never-married</td><td> ?</td><td> Own-child</td><td> White</td><td> Female</td><td>0.0</td><td>0.0</td><td>25.0</td><td> Mexico</td><td> <=50K</td><td>3</td></tr><tr><td>17.0</td><td> Private</td><td>166290.0</td><td> 9th</td><td>5.0</td><td> Never-married</td><td> Other-service</td><td> Own-child</td><td> White</td><td> Female</td><td>0.0</td><td>0.0</td><td>20.0</td><td> United-States</td><td> <=50K</td><td>3</td></tr><tr><td>17.0</td><td> Private</td><td>73145.0</td><td> 9th</td><td>5.0</td><td> Never-married</td><td> Craft-repair</td><td> Own-child</td><td> White</td><td> Female</td><td>0.0</td><td>0.0</td><td>16.0</td><td> United-States</td><td> <=50K</td><td>3</td></tr><tr><td>17.0</td><td> Self-emp-inc</td><td>413557.0</td><td> 9th</td><td>5.0</td><td> Never-married</td><td> Sales</td><td> Own-child</td><td> White</td><td> Female</td><td>0.0</td><td>0.0</td><td>40.0</td><td> United-States</td><td> <=50K</td><td>3</td></tr><tr><td>17.0</td><td> Private</td><td>133449.0</td><td> 9th</td><td>5.0</td><td> Never-married</td><td> Other-service</td><td> Own-child</td><td> Black</td><td> Male</td><td>0.0</td><td>0.0</td><td>26.0</td><td> United-States</td><td> <=50K</td><td>3</td></tr><tr><td>17.0</td><td> Private</td><td>176467.0</td><td> 9th</td><td>5.0</td><td> Never-married</td><td> Transport-moving</td><td> Not-in-family</td><td> White</td><td> Male</td><td>0.0</td><td>0.0</td><td>20.0</td><td> United-States</td><td> <=50K</td><td>3</td></tr></tbody></table></div>"
      ]
     },
     "metadata": {
      "application/vnd.databricks.v1+output": {
       "addedWidgets": {},
       "aggData": [],
       "aggError": "",
       "aggOverflow": false,
       "aggSchema": [],
       "aggSeriesLimitReached": false,
       "aggType": "",
       "arguments": {},
       "columnCustomDisplayInfos": {},
       "data": [
        [
         17.0,
         " Private",
         270942.0,
         " 5th-6th",
         3.0,
         " Never-married",
         " Other-service",
         " Other-relative",
         " White",
         " Male",
         0.0,
         0.0,
         48.0,
         " Mexico",
         " <=50K",
         1
        ],
        [
         17.0,
         " Private",
         168807.0,
         " 7th-8th",
         4.0,
         " Never-married",
         " Craft-repair",
         " Not-in-family",
         " White",
         " Male",
         0.0,
         0.0,
         45.0,
         " United-States",
         " <=50K",
         2
        ],
        [
         17.0,
         " Private",
         168203.0,
         " 7th-8th",
         4.0,
         " Never-married",
         " Farming-fishing",
         " Other-relative",
         " Other",
         " Male",
         0.0,
         0.0,
         40.0,
         " Mexico",
         " <=50K",
         2
        ],
        [
         17.0,
         " Private",
         46402.0,
         " 7th-8th",
         4.0,
         " Never-married",
         " Sales",
         " Own-child",
         " White",
         " Male",
         0.0,
         0.0,
         8.0,
         " United-States",
         " <=50K",
         2
        ],
        [
         17.0,
         " Private",
         191260.0,
         " 9th",
         5.0,
         " Never-married",
         " Other-service",
         " Own-child",
         " White",
         " Male",
         1055.0,
         0.0,
         24.0,
         " United-States",
         " <=50K",
         3
        ],
        [
         17.0,
         " Private",
         211870.0,
         " 9th",
         5.0,
         " Never-married",
         " Other-service",
         " Not-in-family",
         " White",
         " Male",
         0.0,
         0.0,
         6.0,
         " United-States",
         " <=50K",
         3
        ],
        [
         17.0,
         " Local-gov",
         32124.0,
         " 9th",
         5.0,
         " Never-married",
         " Other-service",
         " Own-child",
         " Black",
         " Male",
         0.0,
         0.0,
         9.0,
         " United-States",
         " <=50K",
         3
        ],
        [
         17.0,
         " ?",
         127003.0,
         " 9th",
         5.0,
         " Never-married",
         " ?",
         " Own-child",
         " Black",
         " Male",
         0.0,
         0.0,
         40.0,
         " United-States",
         " <=50K",
         3
        ],
        [
         17.0,
         " Private",
         221129.0,
         " 9th",
         5.0,
         " Married-civ-spouse",
         " Other-service",
         " Husband",
         " White",
         " Male",
         0.0,
         0.0,
         40.0,
         " United-States",
         " <=50K",
         3
        ],
        [
         17.0,
         " ?",
         275778.0,
         " 9th",
         5.0,
         " Never-married",
         " ?",
         " Own-child",
         " White",
         " Female",
         0.0,
         0.0,
         25.0,
         " Mexico",
         " <=50K",
         3
        ],
        [
         17.0,
         " Private",
         166290.0,
         " 9th",
         5.0,
         " Never-married",
         " Other-service",
         " Own-child",
         " White",
         " Female",
         0.0,
         0.0,
         20.0,
         " United-States",
         " <=50K",
         3
        ],
        [
         17.0,
         " Private",
         73145.0,
         " 9th",
         5.0,
         " Never-married",
         " Craft-repair",
         " Own-child",
         " White",
         " Female",
         0.0,
         0.0,
         16.0,
         " United-States",
         " <=50K",
         3
        ],
        [
         17.0,
         " Self-emp-inc",
         413557.0,
         " 9th",
         5.0,
         " Never-married",
         " Sales",
         " Own-child",
         " White",
         " Female",
         0.0,
         0.0,
         40.0,
         " United-States",
         " <=50K",
         3
        ],
        [
         17.0,
         " Private",
         133449.0,
         " 9th",
         5.0,
         " Never-married",
         " Other-service",
         " Own-child",
         " Black",
         " Male",
         0.0,
         0.0,
         26.0,
         " United-States",
         " <=50K",
         3
        ],
        [
         17.0,
         " Private",
         176467.0,
         " 9th",
         5.0,
         " Never-married",
         " Transport-moving",
         " Not-in-family",
         " White",
         " Male",
         0.0,
         0.0,
         20.0,
         " United-States",
         " <=50K",
         3
        ]
       ],
       "datasetInfos": [],
       "dbfsResultPath": null,
       "isJsonSchema": true,
       "metadata": {},
       "overflow": false,
       "plotOptions": {
        "customPlotOptions": {},
        "displayType": "table",
        "pivotAggregation": null,
        "pivotColumns": null,
        "xColumns": null,
        "yColumns": null
       },
       "removedWidgets": [],
       "schema": [
        {
         "metadata": "{}",
         "name": "age",
         "type": "\"double\""
        },
        {
         "metadata": "{}",
         "name": "workclass",
         "type": "\"string\""
        },
        {
         "metadata": "{}",
         "name": "fnlwgt",
         "type": "\"double\""
        },
        {
         "metadata": "{}",
         "name": "education",
         "type": "\"string\""
        },
        {
         "metadata": "{}",
         "name": "education_num",
         "type": "\"double\""
        },
        {
         "metadata": "{}",
         "name": "marital_status",
         "type": "\"string\""
        },
        {
         "metadata": "{}",
         "name": "occupation",
         "type": "\"string\""
        },
        {
         "metadata": "{}",
         "name": "relationship",
         "type": "\"string\""
        },
        {
         "metadata": "{}",
         "name": "race",
         "type": "\"string\""
        },
        {
         "metadata": "{}",
         "name": "sex",
         "type": "\"string\""
        },
        {
         "metadata": "{}",
         "name": "capital_gain",
         "type": "\"double\""
        },
        {
         "metadata": "{}",
         "name": "capital_loss",
         "type": "\"double\""
        },
        {
         "metadata": "{}",
         "name": "hours_per_week",
         "type": "\"double\""
        },
        {
         "metadata": "{}",
         "name": "native_country",
         "type": "\"string\""
        },
        {
         "metadata": "{}",
         "name": "income",
         "type": "\"string\""
        },
        {
         "metadata": "{}",
         "name": "rank_",
         "type": "\"integer\""
        }
       ],
       "type": "table"
      }
     },
     "output_type": "display_data"
    }
   ],
   "source": [
    "display(spark.sql(\n",
    "\"\"\"\n",
    "SELECT\n",
    "    *\n",
    "FROM\n",
    "    (\n",
    "        SELECT\n",
    "            *,\n",
    "            DENSE_RANK() over (\n",
    "                ORDER BY\n",
    "                    age asc,\n",
    "                    education_num asc\n",
    "            ) as rank_\n",
    "        FROM\n",
    "            adult\n",
    "    )\n",
    "where\n",
    "    rank_ <= 5\n",
    "LIMIT 15 -- For displaying limited output\n",
    "\"\"\"))"
   ]
  },
  {
   "cell_type": "code",
   "execution_count": 0,
   "metadata": {
    "application/vnd.databricks.v1+cell": {
     "cellMetadata": {},
     "inputWidgets": {},
     "nuid": "396ef77a-25fa-4a19-b56d-13530c9ecbd0",
     "showTitle": false,
     "title": ""
    }
   },
   "outputs": [],
   "source": []
  }
 ],
 "metadata": {
  "application/vnd.databricks.v1+notebook": {
   "dashboards": [],
   "language": "python",
   "notebookMetadata": {
    "mostRecentlyExecutedCommandWithImplicitDF": {
     "commandId": 2786829960718939,
     "dataframes": [
      "_sqldf"
     ]
    },
    "pythonIndentUnit": 4
   },
   "notebookName": "Databricks_Exercise",
   "widgets": {}
  }
 },
 "nbformat": 4,
 "nbformat_minor": 0
}
