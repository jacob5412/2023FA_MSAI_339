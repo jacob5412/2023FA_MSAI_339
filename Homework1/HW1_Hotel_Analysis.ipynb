{
  "cells": [
    {
      "cell_type": "markdown",
      "metadata": {
        "id": "zYdezS2t-rls"
      },
      "source": [
        "**Homework 1**\n",
        "\n",
        "The purpose of Homework 1 is to use Python to perform data analysis to solve some business questions related to a hotels business.<br>\n",
        "<br>\n"
      ]
    },
    {
      "cell_type": "markdown",
      "metadata": {
        "id": "PjeUHa3O-2Ty"
      },
      "source": [
        "Some useful libraries - more could be necessary"
      ]
    },
    {
      "cell_type": "code",
      "execution_count": null,
      "metadata": {
        "id": "2ivsWzG5-m2Q"
      },
      "outputs": [],
      "source": [
        "import pandas as pd\n",
        "import numpy as np\n",
        "import matplotlib.pyplot as plt\n",
        "import seaborn as sns\n",
        "import re"
      ]
    },
    {
      "cell_type": "code",
      "execution_count": null,
      "metadata": {
        "id": "03J_fVCZZnEA"
      },
      "outputs": [],
      "source": [
        "from functools import reduce\n",
        "\n",
        "import warnings\n",
        "\n",
        "warnings.filterwarnings(\"ignore\", category=FutureWarning)\n",
        "pd.options.mode.chained_assignment = None  # ignore SettingWithCopyWarning"
      ]
    },
    {
      "cell_type": "code",
      "execution_count": null,
      "metadata": {
        "id": "aVGKFv6oZnEA"
      },
      "outputs": [],
      "source": [
        "# constants\n",
        "\n",
        "MONTH_ORDER = [\n",
        "    \"January\",\n",
        "    \"February\",\n",
        "    \"March\",\n",
        "    \"April\",\n",
        "    \"May\",\n",
        "    \"June\",\n",
        "    \"July\",\n",
        "    \"August\",\n",
        "    \"September\",\n",
        "    \"October\",\n",
        "    \"November\",\n",
        "    \"December\",\n",
        "]\n",
        "EQUATOR_LATITUDE = 0.0"
      ]
    },
    {
      "cell_type": "code",
      "source": [
        "from google.colab import drive\n",
        "drive.mount('/content/drive')"
      ],
      "metadata": {
        "id": "JIgcmEAYaCet"
      },
      "execution_count": null,
      "outputs": []
    },
    {
      "cell_type": "markdown",
      "metadata": {
        "id": "BQ18bJv8_SDr"
      },
      "source": [
        "Question 0: Import the hotels data into your environment, and generate a unique ID.\n",
        "\n"
      ]
    },
    {
      "cell_type": "code",
      "source": [
        "# update this to your filepath\n",
        "hotels_df = pd.read_csv(\"/content/drive/My Drive/Colab Notebooks/MSAI339: DS Seminar/hotel_data.csv\")"
      ],
      "metadata": {
        "id": "ZnpERx_GaHFt"
      },
      "execution_count": null,
      "outputs": []
    },
    {
      "cell_type": "code",
      "execution_count": null,
      "metadata": {
        "id": "mOkrws8fZnEC"
      },
      "outputs": [],
      "source": [
        "# unique IDs should start from 1\n",
        "hotels_df.reset_index(inplace=True)\n",
        "hotels_df.rename(columns={\"index\": \"ID\"}, inplace=True)\n",
        "hotels_df['ID'] = hotels_df['ID'] + 1"
      ]
    },
    {
      "cell_type": "code",
      "execution_count": null,
      "metadata": {
        "id": "E1K8oQ86ZnEC"
      },
      "outputs": [],
      "source": [
        "hotels_df.sample(5).T"
      ]
    },
    {
      "cell_type": "markdown",
      "metadata": {
        "id": "5G4RTMihAUwt"
      },
      "source": [
        "Question 1: Create a function that displays the data type, number and percentage of null values, and number of unique values for each column of a given dataframe. (5 points)"
      ]
    },
    {
      "cell_type": "code",
      "execution_count": null,
      "metadata": {
        "id": "BrKaWzS5BKVB"
      },
      "outputs": [],
      "source": [
        "def analyze_dataframe(df):\n",
        "    # fetching the data types\n",
        "    data_types = hotels_df.dtypes.reset_index()\n",
        "    data_types.columns = [\"column_name\", \"data_type\"]\n",
        "    # count number of null values\n",
        "    num_null_values = df.isna().sum().reset_index()\n",
        "    num_null_values.columns = [\"column_name\", \"num_null_values\"]\n",
        "    total_rows = df.shape[0]\n",
        "    unique_values = df.nunique().reset_index()\n",
        "    unique_values.columns = [\"column_name\", \"num_unique_values\"]\n",
        "    # merging all dataframes\n",
        "    description_df = reduce(\n",
        "        lambda left, right: pd.merge(left, right, on=[\"column_name\"], how=\"outer\"),\n",
        "        [data_types, num_null_values, unique_values],\n",
        "    )\n",
        "    description_df[\"perc_null_values\"] = (\n",
        "        description_df[\"num_null_values\"] * 100.0 / total_rows\n",
        "    )\n",
        "    # number of column_names should match with df\n",
        "    assert description_df.shape[0] == df.shape[1]\n",
        "\n",
        "    display(description_df)"
      ]
    },
    {
      "cell_type": "code",
      "execution_count": null,
      "metadata": {
        "id": "tz0p0YtJZnEC"
      },
      "outputs": [],
      "source": [
        "analyze_dataframe(hotels_df)"
      ]
    },
    {
      "cell_type": "markdown",
      "metadata": {
        "id": "gxc7aXBnBR8q"
      },
      "source": [
        "Question 2A: Find the total number of visitors who have canceled a reservation. (1.5 points)"
      ]
    },
    {
      "cell_type": "code",
      "execution_count": null,
      "metadata": {
        "id": "oKEnh9t0J4KU"
      },
      "outputs": [],
      "source": [
        "is_canceled_mask = hotels_df[\"is_canceled\"] == 1\n",
        "print(\n",
        "    f\"\"\"Total bookings that were canceled: {hotels_df.loc[is_canceled_mask, \"ID\"].count()}\"\"\"\n",
        ")\n",
        "print(\n",
        "    f\"\"\"Total adults that canceled: {hotels_df.loc[is_canceled_mask, \"adults\"].sum()}\"\"\"\n",
        ")\n",
        "print(\n",
        "    f\"\"\"Total people that canceled: {int(hotels_df.loc[is_canceled_mask, [\"adults\", \"children\", \"babies\"]].sum().sum())}\"\"\"\n",
        ")"
      ]
    },
    {
      "cell_type": "markdown",
      "metadata": {
        "id": "fqSSQVsvJ4zT"
      },
      "source": [
        "Question 2B: Which month has the most cancellations? (1.5 points)"
      ]
    },
    {
      "cell_type": "markdown",
      "metadata": {
        "id": "WSF-Ar74ZnED"
      },
      "source": [
        "Should we use `arrival_date_month` or `reservation_status_date` as the month for cancellations?\n",
        "\n",
        "First, we'll check if there arrival date months for cancellations."
      ]
    },
    {
      "cell_type": "code",
      "execution_count": null,
      "metadata": {
        "id": "lkQI3KbMKyny"
      },
      "outputs": [],
      "source": [
        "hotels_df.loc[is_canceled_mask, [\"arrival_date_month\"]].value_counts()"
      ]
    },
    {
      "cell_type": "markdown",
      "metadata": {
        "id": "uCa6nWRJZnED"
      },
      "source": [
        "Yes, there are arrival date months for cancellations. However, is the `reservation_status_date` different from the `arrival_date_month` for canceled customers?"
      ]
    },
    {
      "cell_type": "code",
      "execution_count": null,
      "metadata": {
        "id": "0q_sLkp2ZnED"
      },
      "outputs": [],
      "source": [
        "hotels_df[\"reservation_status_date\"] = pd.to_datetime(\n",
        "    hotels_df[\"reservation_status_date\"]\n",
        ")\n",
        "hotels_df[\"reservation_status_month\"] = hotels_df[\n",
        "    \"reservation_status_date\"\n",
        "].dt.strftime(\"%B\")\n",
        "hotels_canceled_months_df = hotels_df.loc[\n",
        "    is_canceled_mask, [\"arrival_date_month\", \"reservation_status_month\", \"ID\"]\n",
        "]\n",
        "# do arrival and reservation months match?\n",
        "hotels_canceled_months_df[\"is_arrival_reservation_month_match\"] = (\n",
        "    hotels_canceled_months_df[\"arrival_date_month\"]\n",
        "    == hotels_canceled_months_df[\"reservation_status_month\"]\n",
        ")\n",
        "hotels_canceled_months_df[\"is_arrival_reservation_month_match\"].value_counts(\n",
        "    normalize=True\n",
        ") * 100.0"
      ]
    },
    {
      "cell_type": "markdown",
      "metadata": {
        "id": "DFRixZr3ZnED"
      },
      "source": [
        "Approximately 80% of the months do not match among arrival and reservation months for cancellation. Furthermore, the reservation status date is most likely the date at which the reservation was updated to cancelled. Hence, we'll use the reservation status month as the month a visit is canceled."
      ]
    },
    {
      "cell_type": "code",
      "execution_count": null,
      "metadata": {
        "id": "UgCOSfFVZnED"
      },
      "outputs": [],
      "source": [
        "# number of IDs that were canceled based on reservation status month\n",
        "hotels_reservation_cancellations_df = (\n",
        "    hotels_df.loc[is_canceled_mask]\n",
        "    .groupby([\"reservation_status_month\"])[\"ID\"]\n",
        "    .nunique()\n",
        "    .reset_index()\n",
        "    .rename(columns={\"ID\": \"num_cancellations\"})\n",
        ")\n",
        "most_cancellation_month = hotels_reservation_cancellations_df.loc[\n",
        "    hotels_reservation_cancellations_df[\"num_cancellations\"].idxmax(), :\n",
        "]\n",
        "print(\n",
        "    f\"\"\"Month with most cancellations is {most_cancellation_month['reservation_status_month']} \"\"\"\n",
        "    + f\"\"\"with {most_cancellation_month['num_cancellations']} cancellations\"\"\"\n",
        ")"
      ]
    },
    {
      "cell_type": "markdown",
      "metadata": {
        "id": "AtjZACxqLAfY"
      },
      "source": [
        "Question 2C: Plot the number of cancellations per month in a histogram. (2 points)"
      ]
    },
    {
      "cell_type": "code",
      "execution_count": null,
      "metadata": {
        "id": "zRC6CPx-ZnED"
      },
      "outputs": [],
      "source": [
        "plt.figure(figsize=(12, 6))\n",
        "ax = sns.barplot(\n",
        "    x=\"reservation_status_month\",\n",
        "    y=\"num_cancellations\",\n",
        "    data=hotels_reservation_cancellations_df,\n",
        "    order=MONTH_ORDER,\n",
        "    color=\"Blue\",\n",
        ")\n",
        "# Add data labels above each bar\n",
        "for p in ax.patches:\n",
        "    ax.annotate(\n",
        "        f\"{p.get_height():.0f}\",\n",
        "        (p.get_x() + p.get_width() / 2.0, p.get_height()),\n",
        "        ha=\"center\",\n",
        "        va=\"center\",\n",
        "        fontsize=9,\n",
        "        color=\"grey\",\n",
        "        xytext=(0, 5),\n",
        "        textcoords=\"offset points\",\n",
        "    )\n",
        "plt.grid(axis=\"y\", linestyle=\"--\", alpha=0.7)\n",
        "plt.xlabel(\"Month\")\n",
        "plt.ylabel(\"Number of Cancellations\")\n",
        "plt.title(\"Monthly Hotel Cancellations (based on reservations)\")\n",
        "plt.xticks(rotation=45)\n",
        "plt.tight_layout()\n",
        "plt.show()"
      ]
    },
    {
      "cell_type": "markdown",
      "metadata": {
        "id": "r27T8t3rLbkK"
      },
      "source": [
        "Question 3: Create a function that prints the percentage of canceled reservations for EACH hotel. (5 points)"
      ]
    },
    {
      "cell_type": "code",
      "execution_count": null,
      "metadata": {
        "id": "liHejMPTMLXO"
      },
      "outputs": [],
      "source": [
        "def hotel_cancellations(\n",
        "    input_hotel_df,\n",
        "    id_col=\"ID\",\n",
        "    hotel_col=\"hotel\",\n",
        "    cancellation_col=\"is_canceled\",\n",
        "):\n",
        "    # count number of bookings per hotel\n",
        "    num_bookings_per_hotel_df = (\n",
        "        input_hotel_df.groupby([hotel_col])[id_col]\n",
        "        .nunique()\n",
        "        .reset_index()\n",
        "        .rename(columns={id_col: \"total_reservations\"})\n",
        "    )\n",
        "    # count number of canceled reservation\n",
        "    num_cancellations_df = (\n",
        "        input_hotel_df[hotels_df[cancellation_col] == 1]\n",
        "        .groupby([hotel_col])[id_col]\n",
        "        .nunique()\n",
        "        .reset_index()\n",
        "        .rename(columns={id_col: \"num_canceled_reservations\"})\n",
        "    )\n",
        "    # calculating percentage\n",
        "    num_cancellations_df = pd.merge(\n",
        "        num_cancellations_df, num_bookings_per_hotel_df, on=hotel_col, how=\"inner\"\n",
        "    )\n",
        "    num_cancellations_df[\"perc_cancellations\"] = (\n",
        "        num_cancellations_df[\"num_canceled_reservations\"]\n",
        "        * 100.0\n",
        "        / num_cancellations_df[\"total_reservations\"]\n",
        "    )\n",
        "    display(num_cancellations_df)"
      ]
    },
    {
      "cell_type": "code",
      "execution_count": null,
      "metadata": {
        "id": "PlEAh1_eZnEE"
      },
      "outputs": [],
      "source": [
        "hotel_cancellations(hotels_df)"
      ]
    },
    {
      "cell_type": "markdown",
      "metadata": {
        "id": "0jvxLvfRMkp2"
      },
      "source": [
        "Question 4: Filter the dataset so that it only contains visitors who have not canceled their reservations. Store this dataset as a separate variable (we will be using it going forward). (5 points)"
      ]
    },
    {
      "cell_type": "code",
      "execution_count": null,
      "metadata": {
        "id": "KY3UgXc1MkR-"
      },
      "outputs": [],
      "source": [
        "non_canceled_reservations_df = hotels_df[~is_canceled_mask]\n",
        "print(non_canceled_reservations_df.shape)\n",
        "display(non_canceled_reservations_df.sample(5).T)"
      ]
    },
    {
      "cell_type": "markdown",
      "metadata": {
        "id": "IMl_bmdvOHPd"
      },
      "source": [
        "Question 5A: Using the filtered dataset from Question 4, create a plot for each hotel showing the number of reservations for each month of arrival. Draw a conclusion on whether the trend is the same between the two hotels (in a sentence or two). (2.5 points)"
      ]
    },
    {
      "cell_type": "code",
      "execution_count": null,
      "metadata": {
        "id": "mF-_JChKOqRr"
      },
      "outputs": [],
      "source": [
        "non_canceled_reservations_by_hotel_month_df = (\n",
        "    non_canceled_reservations_df.groupby([\"hotel\", \"arrival_date_month\"])[\"ID\"]\n",
        "    .nunique()\n",
        "    .reset_index()\n",
        "    .rename(columns={\"ID\": \"num_reservations\"})\n",
        ")"
      ]
    },
    {
      "cell_type": "code",
      "execution_count": null,
      "metadata": {
        "id": "HUyV3Z78ZnEE"
      },
      "outputs": [],
      "source": [
        "plt.figure(figsize=(14, 6))\n",
        "ax = sns.barplot(\n",
        "    x=\"arrival_date_month\",\n",
        "    y=\"num_reservations\",\n",
        "    hue=\"hotel\",\n",
        "    data=non_canceled_reservations_by_hotel_month_df,\n",
        "    order=MONTH_ORDER,\n",
        ")\n",
        "# adding a label on each bar\n",
        "for p in ax.patches:\n",
        "    ax.annotate(\n",
        "        f\"{p.get_height():.0f}\",\n",
        "        (p.get_x() + p.get_width() / 2.0, p.get_height()),\n",
        "        ha=\"center\",\n",
        "        va=\"center\",\n",
        "        fontsize=9,\n",
        "        color=\"grey\",\n",
        "        xytext=(0, 5),\n",
        "        textcoords=\"offset points\",\n",
        "    )\n",
        "plt.xlabel(\"Arrival Month\")\n",
        "plt.ylabel(\"Number of Reservations\")\n",
        "plt.title(\"Monthly Reservations by Hotel\")\n",
        "ax.set_xticklabels(ax.get_xticklabels(), rotation=45, ha=\"right\")\n",
        "ax.yaxis.grid(True, linestyle=\"--\", alpha=0.7)\n",
        "plt.show()"
      ]
    },
    {
      "cell_type": "markdown",
      "metadata": {
        "id": "mRGAwE9oZnEE"
      },
      "source": [
        "The trend looks fairly similar with the exception of May and December - Both hotels see an increasing number of reservations through January to March. The trend plateaus and drops a bit in April. However, the bookings increase in May for \"City Hotel\" (left) compared to \"Resort Hotel\" (right). The trend again gradually increases for both hotels and peaks in August. Finally it sees a steep decline until December.\n",
        "\n",
        "However, let's plot it as a proportion of reservation and see if both hotels share the same trend. Visualizing proportions are far easier than absolute numbers - we can plot the two hotels on the same graph as proportions are normalized."
      ]
    },
    {
      "cell_type": "code",
      "execution_count": null,
      "metadata": {
        "id": "dCAQfb-QZnEE"
      },
      "outputs": [],
      "source": [
        "# calculating proportions of reservations\n",
        "# as number of reservation per month / total reservation\n",
        "non_canceled_reservations_by_hotel_df = (\n",
        "    non_canceled_reservations_df.groupby([\"hotel\"])[\"ID\"]\n",
        "    .nunique()\n",
        "    .reset_index()\n",
        "    .rename(columns={\"ID\": \"total_reservations\"})\n",
        ")\n",
        "non_canceled_reservations_by_hotel_month_df = pd.merge(\n",
        "    non_canceled_reservations_by_hotel_month_df,\n",
        "    non_canceled_reservations_by_hotel_df,\n",
        "    on=\"hotel\",\n",
        "    how=\"inner\",\n",
        ")\n",
        "non_canceled_reservations_by_hotel_month_df[\"perc_reservations\"] = (\n",
        "    non_canceled_reservations_by_hotel_month_df[\"num_reservations\"]\n",
        "    * 100.0\n",
        "    / non_canceled_reservations_by_hotel_month_df[\"total_reservations\"]\n",
        ")"
      ]
    },
    {
      "cell_type": "code",
      "execution_count": null,
      "metadata": {
        "id": "xq4Tid0eZnEE"
      },
      "outputs": [],
      "source": [
        "plt.figure(figsize=(14, 6))\n",
        "ax = sns.barplot(\n",
        "    x=\"arrival_date_month\",\n",
        "    y=\"perc_reservations\",\n",
        "    hue=\"hotel\",\n",
        "    data=non_canceled_reservations_by_hotel_month_df,\n",
        "    order=MONTH_ORDER,\n",
        ")\n",
        "# adding a label on each bar\n",
        "for p in ax.patches:\n",
        "    ax.annotate(\n",
        "        f\"{p.get_height():.2f}\",\n",
        "        (p.get_x() + p.get_width() / 2.0, p.get_height()),\n",
        "        ha=\"center\",\n",
        "        va=\"center\",\n",
        "        fontsize=9,\n",
        "        color=\"grey\",\n",
        "        xytext=(0, 5),\n",
        "        textcoords=\"offset points\",\n",
        "    )\n",
        "plt.xlabel(\"Arrival Month\")\n",
        "plt.ylabel(\"Proportion of Reservations\")\n",
        "plt.title(\"Proportion of Reservations by Hotel and Arrival Month\")\n",
        "ax.set_xticklabels(ax.get_xticklabels(), rotation=45, ha=\"right\")\n",
        "ax.yaxis.grid(True, linestyle=\"--\", alpha=0.7)\n",
        "plt.show()"
      ]
    },
    {
      "cell_type": "markdown",
      "metadata": {
        "id": "wxj8q6bWOqsj"
      },
      "source": [
        "**Conclusion**:\n",
        "\n",
        "It is clear that the trends between both hotels look similar accross months with the exception of May and December. Both hotels see an increasing number of reservations through January to March, and drops in April. The general trend again gradually increases for both hotels and peaks in August, followed by a steep decline until December.\n",
        "\n",
        "\n",
        "_Why?_\n",
        "\n",
        "The trend seems to be representative of holidays in the summer months - July and August are the highest proportion of holidays. Winter month might be lower in proportion possible because people tend to travel more often during longer school break."
      ]
    },
    {
      "cell_type": "markdown",
      "metadata": {
        "id": "qmldNIjVOtR0"
      },
      "source": [
        "Question 5B: Using the filtered dataset from Question 4, create a plot for each hotel showing the number of reservations for each month of arrival, delineated by whether or not there are children (or babies) present on the reservation. (2.5 points)"
      ]
    },
    {
      "cell_type": "code",
      "execution_count": null,
      "metadata": {
        "id": "QvCp26ASZnEG"
      },
      "outputs": [],
      "source": [
        "non_canceled_reservations_df.loc[:, \"is_children_present\"] = False\n",
        "non_canceled_reservations_df.loc[\n",
        "    (non_canceled_reservations_df[[\"children\", \"babies\"]].sum(axis=1) > 0),\n",
        "    \"is_children_present\",\n",
        "] = True\n",
        "non_canceled_reservations_by_hotel_month_children_df = (\n",
        "    non_canceled_reservations_df.groupby(\n",
        "        [\"hotel\", \"arrival_date_month\", \"is_children_present\"]\n",
        "    )[\"ID\"]\n",
        "    .nunique()\n",
        "    .reset_index()\n",
        "    .rename(columns={\"ID\": \"num_reservations\"})\n",
        ")\n",
        "non_canceled_reservations_by_hotel_month_children_df[\n",
        "    \"is_children_present\"\n",
        "] = non_canceled_reservations_by_hotel_month_children_df[\"is_children_present\"].astype(\n",
        "    str\n",
        ")"
      ]
    },
    {
      "cell_type": "code",
      "execution_count": null,
      "metadata": {
        "id": "Ms-Z8xlGPbJz"
      },
      "outputs": [],
      "source": [
        "g = sns.FacetGrid(\n",
        "    data=non_canceled_reservations_by_hotel_month_children_df,\n",
        "    row=\"hotel\",\n",
        "    margin_titles=False,\n",
        "    height=5,\n",
        "    aspect=1.5,\n",
        "    sharex=False,\n",
        ")\n",
        "g.map_dataframe(\n",
        "    sns.barplot,\n",
        "    x=\"arrival_date_month\",\n",
        "    y=\"num_reservations\",\n",
        "    hue=\"is_children_present\",\n",
        "    order=MONTH_ORDER,\n",
        "    palette=sns.color_palette(\"Set1\"),\n",
        ")\n",
        "g.set_axis_labels(\"Arrival Month\", \"Number of Reservations\")\n",
        "# Add a legend and a gridline\n",
        "for ax in g.axes.flat:\n",
        "    ax.legend(title=\"Children Present\", loc=\"upper right\")\n",
        "    ax.yaxis.grid(True, linestyle=\"--\", alpha=0.7)\n",
        "# add hotel titles individual plot titles\n",
        "hotel_titles = non_canceled_reservations_by_hotel_month_children_df[\"hotel\"].unique()\n",
        "for i, (ax, title) in enumerate(\n",
        "    zip(\n",
        "        g.axes.flat,\n",
        "        hotel_titles,\n",
        "    )\n",
        "):\n",
        "    ax.set_title(title)\n",
        "g.set_xticklabels(rotation=45)\n",
        "plt.tight_layout()\n",
        "plt.show()"
      ]
    },
    {
      "cell_type": "markdown",
      "metadata": {
        "id": "OWYWSqbLQUzg"
      },
      "source": [
        "Question 6: Using the filtered dataset from Question 4, create a single column for \"arrival_date\" that shows the date of arrival in Year-Month-Day format. (5 points)"
      ]
    },
    {
      "cell_type": "code",
      "execution_count": null,
      "metadata": {
        "id": "1jsAPXgvSEqg"
      },
      "outputs": [],
      "source": [
        "non_canceled_reservations_df[\"arrival_date\"] = pd.to_datetime(\n",
        "    (\n",
        "        non_canceled_reservations_df[\"arrival_date_year\"].astype(str)\n",
        "        + \"-\"\n",
        "        + non_canceled_reservations_df[\"arrival_date_month\"]\n",
        "        + \"-\"\n",
        "        + non_canceled_reservations_df[\"arrival_date_day_of_month\"].astype(str)\n",
        "    ),\n",
        "    format=\"%Y-%B-%d\",\n",
        ")\n",
        "display(\n",
        "    non_canceled_reservations_df[\n",
        "        [\n",
        "            \"arrival_date_year\",\n",
        "            \"arrival_date_month\",\n",
        "            \"arrival_date_day_of_month\",\n",
        "            \"arrival_date\",\n",
        "        ]\n",
        "    ].sample(5)\n",
        ")\n",
        "print(\n",
        "    f\"\"\"DataType of `arrival_date` is {non_canceled_reservations_df[\"arrival_date\"].dtype}.\"\"\"\n",
        ")"
      ]
    },
    {
      "cell_type": "markdown",
      "metadata": {
        "id": "wCEFmRbpSFSQ"
      },
      "source": [
        "Question 7A: Create a new dataframe that contains the date of arrival and the number of reservations arriving on that particular day. Sort that dataframe by number of daily reservations, from highest to lowest. Display the first 20 rows of the dataframe. (2.5 points)"
      ]
    },
    {
      "cell_type": "code",
      "execution_count": null,
      "metadata": {
        "id": "OrvuKNbmTFXS"
      },
      "outputs": [],
      "source": [
        "non_canceled_reservations_per_arrival_day_df = (\n",
        "    non_canceled_reservations_df.groupby([\"arrival_date\"])[\"ID\"]\n",
        "    .nunique()\n",
        "    .reset_index()\n",
        "    .rename(columns={\"ID\": \"num_reservations\"})\n",
        "    .sort_values(by=[\"num_reservations\", \"arrival_date\"], ascending=[False, True])\n",
        ")\n",
        "top_20_non_canceled_reservations_per_arrival_day_df = non_canceled_reservations_per_arrival_day_df.head(20)\n",
        "top_20_non_canceled_reservations_per_arrival_day_df['rank'] = top_20_non_canceled_reservations_per_arrival_day_df['num_reservations']\\\n",
        ".rank(ascending=False, method=\"dense\")\n",
        "top_20_non_canceled_reservations_per_arrival_day_df"
      ]
    },
    {
      "cell_type": "markdown",
      "metadata": {
        "id": "ypSdByW2TFqf"
      },
      "source": [
        "Question 7B: Visualize the data from Question 7A as a line plot. (2.5 points)"
      ]
    },
    {
      "cell_type": "code",
      "source": [
        "arrival_date_range = pd.date_range(\n",
        "    start=non_canceled_reservations_per_arrival_day_df[\"arrival_date\"].min(),\n",
        "    end=non_canceled_reservations_per_arrival_day_df[\"arrival_date\"].max(),\n",
        ")\n",
        "full_arrival_date_range_df = pd.DataFrame(\n",
        "    {\"arrival_date\": arrival_date_range}\n",
        ")\n",
        "non_canceled_reservations_per_arrival_day_imputed_df = pd.merge(\n",
        "    full_arrival_date_range_df,\n",
        "    non_canceled_reservations_per_arrival_day_df,\n",
        "    on=\"arrival_date\",\n",
        "    how=\"left\",\n",
        ").fillna({\"num_reservations\": 0})"
      ],
      "metadata": {
        "id": "61bNSlfgys_o"
      },
      "execution_count": null,
      "outputs": []
    },
    {
      "cell_type": "code",
      "execution_count": null,
      "metadata": {
        "id": "3DxG3XxNTGIy"
      },
      "outputs": [],
      "source": [
        "plt.figure(figsize=(15, 6.5))\n",
        "sns.lineplot(\n",
        "    data=non_canceled_reservations_per_arrival_day_imputed_df,\n",
        "    x=\"arrival_date\",\n",
        "    y=\"num_reservations\",\n",
        ")\n",
        "sns.scatterplot(\n",
        "    data=top_20_non_canceled_reservations_per_arrival_day_df,\n",
        "    x=\"arrival_date\",\n",
        "    y=\"num_reservations\",\n",
        "    label=\"Top 20 Reservations\",\n",
        "    color='orange',\n",
        ")\n",
        "plt.grid(True)\n",
        "plt.title(\"Number of Reservations Over Arrival Date\")\n",
        "plt.xlabel(\"Arrival Date\")\n",
        "plt.ylabel(\"Number of Reservations\")\n",
        "# displaying the date once every three weeks\n",
        "triweekly_xticks = pd.date_range(\n",
        "    start=non_canceled_reservations_per_arrival_day_imputed_df[\"arrival_date\"].min(),\n",
        "    end=non_canceled_reservations_per_arrival_day_imputed_df[\"arrival_date\"].max(),\n",
        "    freq=\"3W-MON\",\n",
        ")\n",
        "# marking the top 20 reservation\n",
        "for _, row in top_20_non_canceled_reservations_per_arrival_day_df.iterrows():\n",
        "    plt.text(\n",
        "        row['arrival_date'],\n",
        "        row['num_reservations'],\n",
        "        f\"#{int(row['rank'])}\",\n",
        "        ha='center',\n",
        "        va='bottom'\n",
        "    )\n",
        "plt.xticks(rotation=45, ticks=triweekly_xticks)\n",
        "plt.show()"
      ]
    },
    {
      "cell_type": "code",
      "source": [
        "top_20_non_canceled_reservations_copy_df = top_20_non_canceled_reservations_per_arrival_day_df.copy()\n",
        "top_20_non_canceled_reservations_copy_df['arrival_date'] = top_20_non_canceled_reservations_copy_df['arrival_date'].astype(str)"
      ],
      "metadata": {
        "id": "S3hnB9P_N00i"
      },
      "execution_count": null,
      "outputs": []
    },
    {
      "cell_type": "code",
      "source": [
        "plt.figure(figsize=(10, 6.5))\n",
        "sns.lineplot(\n",
        "    data=top_20_non_canceled_reservations_copy_df,\n",
        "    x=\"arrival_date\",\n",
        "    y=\"num_reservations\",\n",
        ")\n",
        "plt.grid(True)\n",
        "plt.title(\"Top 20: Number of Reservations Over Arrival Date\")\n",
        "plt.xlabel(\"Number of Reservations\")\n",
        "plt.ylabel(\"Arrival Date\")\n",
        "plt.xticks(rotation=45)\n",
        "plt.show()"
      ],
      "metadata": {
        "id": "_W8AAH7QByyi"
      },
      "execution_count": null,
      "outputs": []
    },
    {
      "cell_type": "markdown",
      "metadata": {
        "id": "u_CuvlIFTZSR"
      },
      "source": [
        "Question 8A: What is the average daily reservation rate by hotel and customer type? Print your results in a dataframe and display all rows. (2.5 points)\n",
        "\n",
        "Since `reservation_status_date` is the last date a reservation changes, we'll be ignoring canceled reservations. This is because cancelled reservations would contain the date the reservation was cancelled and not when the booking was made."
      ]
    },
    {
      "cell_type": "code",
      "execution_count": null,
      "metadata": {
        "id": "KVSsGBa2T9_f"
      },
      "outputs": [],
      "source": [
        "non_canceled_reservations_total_df = (\n",
        "    non_canceled_reservations_df.groupby(\n",
        "        [\"hotel\", \"customer_type\"]\n",
        "    )[\"ID\"]\n",
        "    .nunique()\n",
        "    .reset_index()\n",
        "    .rename(columns={\"ID\": \"num_reservations\"})\n",
        ")\n",
        "# calculate this as number of bookings over a date range\n",
        "arrival_date_range = (\n",
        "    non_canceled_reservations_df[\"arrival_date\"].max()\n",
        "    - non_canceled_reservations_df[\"arrival_date\"].min()\n",
        "  ).total_seconds() / (60 * 60 * 24) + 1\n",
        "non_canceled_reservations_total_df['daily_avg_reservations'] = (\n",
        "  non_canceled_reservations_total_df['num_reservations'] / arrival_date_range\n",
        ")\n",
        "non_canceled_reservations_total_df"
      ]
    },
    {
      "cell_type": "markdown",
      "metadata": {
        "id": "NgqgAadgT-SQ"
      },
      "source": [
        "Question 8B: Plot the dataframe from Question 8A as a boxplot. (2.5 points)"
      ]
    },
    {
      "cell_type": "code",
      "source": [
        "non_canceled_reservations_per_date_df = (\n",
        "    non_canceled_reservations_df.groupby(\n",
        "        [\"hotel\", \"customer_type\", \"arrival_date\"]\n",
        "      )[\"ID\"]\n",
        "    .nunique()\n",
        "    .reset_index()\n",
        "    .rename(columns={\"ID\": \"num_reservations\"})\n",
        ")"
      ],
      "metadata": {
        "id": "PRKJrTqretLT"
      },
      "execution_count": null,
      "outputs": []
    },
    {
      "cell_type": "code",
      "execution_count": null,
      "metadata": {
        "id": "501sT4wcUCWP"
      },
      "outputs": [],
      "source": [
        "plt.figure(figsize=(12, 7))\n",
        "customer_type_order = non_canceled_reservations_per_date_df.customer_type.unique()\n",
        "ax = sns.boxplot(\n",
        "    data=non_canceled_reservations_per_date_df,\n",
        "    y=\"hotel\",\n",
        "    x=\"num_reservations\",\n",
        "    hue=\"customer_type\",\n",
        "    hue_order=customer_type_order,\n",
        ")\n",
        "# adding the mean to boxplot\n",
        "stripplot = sns.stripplot(\n",
        "    data=non_canceled_reservations_total_df,\n",
        "    y=\"hotel\",\n",
        "    x=\"daily_avg_reservations\",\n",
        "    hue=\"customer_type\",\n",
        "    hue_order=customer_type_order,\n",
        "    dodge=True,\n",
        "    size=8,\n",
        "    ax=ax,\n",
        ")\n",
        "handles, labels = ax.get_legend_handles_labels()\n",
        "l = plt.legend(\n",
        "    handles,\n",
        "    labels[0:4] + [f\"{h} Mean\" for h in labels[4:]],\n",
        "    bbox_to_anchor=(1.05, 1),\n",
        "    loc=2,\n",
        "    borderaxespad=0.0,\n",
        ")\n",
        "plt.grid(True)\n",
        "plt.title(\"Distribution of Number of Daily Reservations by Hotel and Customer Type\")\n",
        "plt.ylabel(\"Hotel\")\n",
        "plt.xlabel(\"Number of Daily Reservations\")\n",
        "plt.show()"
      ]
    },
    {
      "cell_type": "markdown",
      "metadata": {
        "id": "TgjoeJbBVpxt"
      },
      "source": [
        "Question 9A: Import the \"Country Codes and Coordinates\" spreadsheet into your environment, and merge it with your filtered dataset from Question 4. Display the top 10 countries by number of reservations. (2.5 points)"
      ]
    },
    {
      "cell_type": "code",
      "execution_count": null,
      "metadata": {
        "id": "g_WI7cQRZnEM"
      },
      "outputs": [],
      "source": [
        "country_codes_coords_df = pd.read_csv(\n",
        "    \"/content/drive/My Drive/Colab Notebooks/MSAI339: DS Seminar/country_codes_and_coordinates - countries_codes_and_coordinates.csv\"\n",
        ")\n",
        "country_codes_coords_df = country_codes_coords_df.drop_duplicates(\n",
        "    [\n",
        "        \"Alpha-2 code\",\n",
        "        \"Alpha-3 code\",\n",
        "        \"Numeric code\",\n",
        "        \"Latitude (average)\",\n",
        "        \"Longitude (average)\",\n",
        "    ],\n",
        "    keep=\"first\",\n",
        ").rename(\n",
        "    columns={\"Country\": \"Country Name\"},\n",
        ")\n",
        "# check for duplicates\n",
        "country_codes_coords_df.nunique(dropna=False)"
      ]
    },
    {
      "cell_type": "markdown",
      "metadata": {
        "id": "XYf91yDFZnEM"
      },
      "source": [
        "Sanity Check - The number of `Alpha-2 code`, `Alpha-3 code` and `Country Name` should be the same."
      ]
    },
    {
      "cell_type": "code",
      "execution_count": null,
      "metadata": {
        "id": "mqhBuPc4XLAj"
      },
      "outputs": [],
      "source": [
        "# fill missing countries\n",
        "non_canceled_reservations_df[\"country\"].fillna(\"Missing\", inplace=True)\n",
        "# merging with Alpha-3\n",
        "non_canceled_reservations_country_info_v1_df = pd.merge(\n",
        "    non_canceled_reservations_df,\n",
        "    country_codes_coords_df[country_codes_coords_df[\"Alpha-3 code\"].notnull()],\n",
        "    left_on=[\"country\"],\n",
        "    right_on=[\"Alpha-3 code\"],\n",
        "    how=\"left\",\n",
        ")\n",
        "# merging with Alpha-2 for those missing from Alpha-3\n",
        "non_canceled_reservations_country_info_v2_df = pd.concat(\n",
        "    [\n",
        "        non_canceled_reservations_country_info_v1_df[\n",
        "            non_canceled_reservations_country_info_v1_df[\"Country Name\"].notnull()\n",
        "        ],\n",
        "        pd.merge(\n",
        "            non_canceled_reservations_country_info_v1_df[\n",
        "                non_canceled_reservations_country_info_v1_df[\"Country Name\"].isna()\n",
        "            ].drop(country_codes_coords_df.columns, axis=1),\n",
        "            country_codes_coords_df[country_codes_coords_df[\"Alpha-2 code\"].notnull()],\n",
        "            left_on=[\"country\"],\n",
        "            right_on=[\"Alpha-2 code\"],\n",
        "            how=\"left\",\n",
        "        ),\n",
        "    ]\n",
        ")\n",
        "\n",
        "# check if we lost any data in the merge\n",
        "assert (\n",
        "    non_canceled_reservations_country_info_v2_df.shape[0]\n",
        "    == non_canceled_reservations_df.shape[0]\n",
        ")\n",
        "non_canceled_reservations_country_info_v2_df[\"Country Name\"].fillna(\n",
        "    \"Missing\", inplace=True\n",
        ")\n",
        "\n",
        "# printing the top 10 countries\n",
        "reservations_by_country_df = (\n",
        "    non_canceled_reservations_country_info_v2_df.groupby([\"Country Name\"])[\"ID\"]\n",
        "    .nunique()\n",
        "    .reset_index()\n",
        "    .rename(columns={\"ID\": \"num_reservations\"})\n",
        ")\n",
        "reservations_by_country_df[\"num_reservation_rank\"] = reservations_by_country_df[\n",
        "    \"num_reservations\"\n",
        "].rank(ascending=False, method=\"dense\")\n",
        "top_10_reservations_by_country_df = reservations_by_country_df[\n",
        "    reservations_by_country_df[\"num_reservation_rank\"] <= 10\n",
        "].sort_values(by=[\"num_reservation_rank\"])\n",
        "top_10_reservations_by_country_df"
      ]
    },
    {
      "cell_type": "markdown",
      "metadata": {
        "id": "Zg37PX1mXLS7"
      },
      "source": [
        "Question 9B: Visualize the data from Question 9A as a horizontal bar plot. (2.5 points)"
      ]
    },
    {
      "cell_type": "code",
      "execution_count": null,
      "metadata": {
        "id": "bW_B5NR3ZnEM"
      },
      "outputs": [],
      "source": [
        "plt.figure(figsize=(10, 6))\n",
        "sns.barplot(\n",
        "    x=\"num_reservations\",\n",
        "    y=\"Country Name\",\n",
        "    data=top_10_reservations_by_country_df,\n",
        "    palette=\"viridis\",\n",
        ")\n",
        "plt.grid(axis=\"x\", linestyle=\"--\", alpha=0.7)\n",
        "plt.xlabel(\"Number of Reservations\")\n",
        "plt.ylabel(\"Country\")\n",
        "plt.title(\"Top 10 Reservations by Country\")\n",
        "plt.show()"
      ]
    },
    {
      "cell_type": "markdown",
      "metadata": {
        "id": "2Dr1gH-2Xgyk"
      },
      "source": [
        "Question 10A: How many guests (including children and babies) are present on the average reservation? (2.5 points)\n",
        "\n",
        "Option 1: For all reservations."
      ]
    },
    {
      "cell_type": "code",
      "execution_count": null,
      "metadata": {
        "id": "cml383kbZnEN"
      },
      "outputs": [],
      "source": [
        "hotels_df[\"total_personnel\"] = hotels_df[[\"adults\", \"children\", \"babies\"]].sum(axis=1)\n",
        "print(f\"\"\"Average guests per reservation: {hotels_df[\"total_personnel\"].mean():.2f}\"\"\")"
      ]
    },
    {
      "cell_type": "markdown",
      "metadata": {
        "id": "AiVGxSNOZnEN"
      },
      "source": [
        "Option 2: For only non-canceled reservations."
      ]
    },
    {
      "cell_type": "code",
      "execution_count": null,
      "metadata": {
        "id": "3yPgVjUYZnEN"
      },
      "outputs": [],
      "source": [
        "non_canceled_reservations_country_info_v2_df[\n",
        "    \"total_personnel\"\n",
        "] = non_canceled_reservations_country_info_v2_df[[\"adults\", \"children\", \"babies\"]].sum(\n",
        "    axis=1\n",
        ")\n",
        "print(\n",
        "    f\"\"\"Average guests per reservation: {non_canceled_reservations_country_info_v2_df[\"total_personnel\"].mean():.2f}\"\"\"\n",
        ")"
      ]
    },
    {
      "cell_type": "markdown",
      "metadata": {
        "id": "yh2fpXOSZR6Q"
      },
      "source": [
        "Question 10B: True or False - Hotels below the equator have a higher average number of guests on reservations. (2.5 points)"
      ]
    },
    {
      "cell_type": "markdown",
      "metadata": {
        "id": "eN7x1dU3ZnEN"
      },
      "source": [
        "Ignoring reservations with missing countries as we don't know what their coordinates are.\n",
        "\n",
        "Option 1: For all reservations."
      ]
    },
    {
      "cell_type": "code",
      "execution_count": null,
      "metadata": {
        "id": "yN0KK_2taIaB"
      },
      "outputs": [],
      "source": [
        "# merging with Alpha-3 first\n",
        "hotels_country_info_v1_df = pd.merge(\n",
        "    hotels_df[hotels_df[\"country\"].notnull()],\n",
        "    country_codes_coords_df[country_codes_coords_df[\"Alpha-3 code\"].notnull()],\n",
        "    left_on=[\"country\"],\n",
        "    right_on=[\"Alpha-3 code\"],\n",
        "    how=\"left\",\n",
        ")\n",
        "# merging the missing ones with Alpha-2\n",
        "hotels_country_info_v2_df = pd.concat(\n",
        "    [\n",
        "        hotels_country_info_v1_df[hotels_country_info_v1_df[\"Country Name\"].notnull()],\n",
        "        pd.merge(\n",
        "            hotels_country_info_v1_df[\n",
        "                hotels_country_info_v1_df[\"Country Name\"].isna()\n",
        "            ].drop(country_codes_coords_df.columns, axis=1),\n",
        "            country_codes_coords_df[country_codes_coords_df[\"Alpha-2 code\"].notnull()],\n",
        "            left_on=[\"country\"],\n",
        "            right_on=[\"Alpha-2 code\"],\n",
        "            how=\"left\",\n",
        "        ),\n",
        "    ]\n",
        ")\n",
        "\n",
        "# check if we lost any data in the merge\n",
        "assert (\n",
        "    hotels_country_info_v2_df.shape[0]\n",
        "    == hotels_df[hotels_df[\"country\"].notnull()].shape[0]\n",
        ")\n",
        "# is country above or below the equator?\n",
        "hotels_country_info_v2_df[\"Equator_Category\"] = hotels_country_info_v1_df[\n",
        "    \"Latitude (average)\"\n",
        "].apply(lambda x: \"Above Equator\" if x > EQUATOR_LATITUDE else \"Below Equator\")\n",
        "avg_guests_per_resv_by_equator_df = (\n",
        "    hotels_country_info_v2_df.groupby([\"Equator_Category\"])[\"total_personnel\"]\n",
        "    .mean()\n",
        "    .reset_index()\n",
        "    .rename(columns={\"total_personnel\": \"average_guests_per_reservation\"})\n",
        ")"
      ]
    },
    {
      "cell_type": "code",
      "execution_count": null,
      "metadata": {
        "id": "no25vmytZnEN"
      },
      "outputs": [],
      "source": [
        "print(\n",
        "    \"Hotels below the equator have a higher average number of guests on reservations: \"\n",
        "    + str(\n",
        "        avg_guests_per_resv_by_equator_df.loc[\n",
        "            avg_guests_per_resv_by_equator_df[\"Equator_Category\"] == \"Below Equator\",\n",
        "            \"average_guests_per_reservation\",\n",
        "        ].item()\n",
        "        > avg_guests_per_resv_by_equator_df.loc[\n",
        "            avg_guests_per_resv_by_equator_df[\"Equator_Category\"] == \"Above Equator\",\n",
        "            \"average_guests_per_reservation\",\n",
        "        ].item()\n",
        "    )\n",
        ")\n",
        "display(avg_guests_per_resv_by_equator_df)"
      ]
    },
    {
      "cell_type": "markdown",
      "metadata": {
        "id": "j3_VLiLXZnEN"
      },
      "source": [
        "Option 2: For only non-canceled reservations."
      ]
    },
    {
      "cell_type": "code",
      "execution_count": null,
      "metadata": {
        "id": "adxOcdtwZnEN"
      },
      "outputs": [],
      "source": [
        "non_missing_non_canceled_reservations_country_info_v2_df = (\n",
        "    non_canceled_reservations_country_info_v2_df[\n",
        "        non_canceled_reservations_country_info_v2_df[\"Country Name\"] != \"Missing\"\n",
        "    ]\n",
        ")\n",
        "# is country above or below the equator?\n",
        "non_missing_non_canceled_reservations_country_info_v2_df[\n",
        "    \"Equator_Category\"\n",
        "] = non_missing_non_canceled_reservations_country_info_v2_df[\n",
        "    \"Latitude (average)\"\n",
        "].apply(\n",
        "    lambda x: \"Above Equator\" if x > EQUATOR_LATITUDE else \"Below Equator\"\n",
        ")\n",
        "avg_guests_per_resv_by_equator_df = (\n",
        "    non_missing_non_canceled_reservations_country_info_v2_df.groupby(\n",
        "        [\"Equator_Category\"]\n",
        "    )[\"total_personnel\"]\n",
        "    .mean()\n",
        "    .reset_index()\n",
        "    .rename(columns={\"total_personnel\": \"average_guests_per_reservation\"})\n",
        ")"
      ]
    },
    {
      "cell_type": "code",
      "execution_count": null,
      "metadata": {
        "id": "_2jqMkXPZnEN"
      },
      "outputs": [],
      "source": [
        "print(\n",
        "    \"Hotels below the equator have a higher average number of guests on reservations: \"\n",
        "    + str(\n",
        "        avg_guests_per_resv_by_equator_df.loc[\n",
        "            avg_guests_per_resv_by_equator_df[\"Equator_Category\"] == \"Below Equator\",\n",
        "            \"average_guests_per_reservation\",\n",
        "        ].item()\n",
        "        > avg_guests_per_resv_by_equator_df.loc[\n",
        "            avg_guests_per_resv_by_equator_df[\"Equator_Category\"] == \"Above Equator\",\n",
        "            \"average_guests_per_reservation\",\n",
        "        ].item()\n",
        "    )\n",
        ")\n",
        "display(avg_guests_per_resv_by_equator_df)"
      ]
    },
    {
      "cell_type": "markdown",
      "source": [
        "Given both options, \"Hotels below the equator have a higher average number of guests on reservations\" is True."
      ],
      "metadata": {
        "id": "OlzAxcLmyM_6"
      }
    },
    {
      "cell_type": "code",
      "source": [],
      "metadata": {
        "id": "Oa22lx2HyStf"
      },
      "execution_count": null,
      "outputs": []
    }
  ],
  "metadata": {
    "colab": {
      "provenance": []
    },
    "kernelspec": {
      "display_name": "Python 3 (ipykernel)",
      "language": "python",
      "name": "python3"
    },
    "language_info": {
      "codemirror_mode": {
        "name": "ipython",
        "version": 3
      },
      "file_extension": ".py",
      "mimetype": "text/x-python",
      "name": "python",
      "nbconvert_exporter": "python",
      "pygments_lexer": "ipython3",
      "version": "3.11.5"
    }
  },
  "nbformat": 4,
  "nbformat_minor": 0
}