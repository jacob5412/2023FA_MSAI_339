{
 "cells": [
  {
   "cell_type": "markdown",
   "metadata": {
    "id": "KO7zesYru9xx"
   },
   "source": [
    "# Diabetes EDA and ML Prep \n",
    "\n",
    "This dataset is originally from the National Institute of Diabetes and Digestive and Kidney Diseases. The objective of the dataset is to diagnostically predict whether or not a patient has diabetes, based on certain diagnostic measurements included in the dataset. Several constraints were placed on the selection of these instances from a larger database. In particular, all patients here are females at least 21 years old of Pima Indian heritage.\n",
    "\n",
    "You will perform EDA and prepare (fill in missing values, transform, scale) the dataset for modeling.  Finally, you'll use logistic regression to evaluate how your transformation of the data improved the prediction on Outcome.\n",
    "\n",
    "---\n",
    "\n",
    "There are 9 columns\n",
    "* Pregnancies - Number of times pregnant\n",
    "* Glucose - Plasma glucose concentration a 2 hours in an oral glucose tolerance test\n",
    "* BloodPressure - Diastolic blood pressure (mm Hg)\n",
    "* SkinThickness - Triceps skin fold thickness (mm)\n",
    "* Insulin - 2-Hour serum insulin (mu U/ml)\n",
    "* BMI - Body mass index (weight in kg/(height in m)^2)\n",
    "* DiabetesPedigreeFunction - Diabetes pedigree function\n",
    "* Age (years)\n",
    "* Outcome - Class variable (0 or 1) 268 of 768 are 1, the others are 0  \n",
    "\n",
    "---\n",
    "\n",
    "Grading:  \n",
    "* Coding style and linear flow.  Can we examine the graphs and read the analysis end-to-end to understand the analysis and choices made. - 15%\n",
    "* EDA - View the histogram for each variable.  Look at the correlations between all variables.  Observe / analyse interesting relationships between the variables - 20%\n",
    "* Model prep - For each column, were your assumptions and technique chosen to fill in missing data, transform or scale correct and supported. - 50%\n",
    "* Model eval - How did the logistic regression perform compared to the baseline.  How well did the student assess the performance, including assessing if there was data \"leakage\"  - 15%\n",
    "\n"
   ]
  },
  {
   "cell_type": "code",
   "execution_count": 1,
   "metadata": {},
   "outputs": [],
   "source": [
    "%load_ext lab_black"
   ]
  },
  {
   "cell_type": "code",
   "execution_count": 10,
   "metadata": {
    "id": "3mU6vVz_Gmu0"
   },
   "outputs": [],
   "source": [
    "# @title Functions to split and model dataset\n",
    "from sklearn.linear_model import LogisticRegression\n",
    "from sklearn.model_selection import train_test_split\n",
    "from sklearn.metrics import confusion_matrix, ConfusionMatrixDisplay\n",
    "import pandas as pd\n",
    "import matplotlib.pyplot as plt\n",
    "import seaborn as sns\n",
    "import numpy as np\n",
    "\n",
    "\n",
    "def get_train_test(df):\n",
    "    return train_test_split(\n",
    "        df.loc[:, df.columns != \"Outcome\"],\n",
    "        df[\"Outcome\"],\n",
    "        test_size=0.3,\n",
    "        random_state=77,\n",
    "    )\n",
    "\n",
    "\n",
    "def score_data(scored_df_):\n",
    "    X_train, X_test, y_train, y_test = get_train_test(scored_df_)\n",
    "    model = LogisticRegression()\n",
    "    model.fit(X_train, y_train)\n",
    "    predictions = model.predict(X_test)\n",
    "    return confusion_matrix(y_test, predictions, labels=model.classes_)"
   ]
  },
  {
   "cell_type": "code",
   "execution_count": 12,
   "metadata": {
    "id": "6Y7xb3-EKi9c"
   },
   "outputs": [
    {
     "name": "stderr",
     "output_type": "stream",
     "text": [
      "/Users/jacob/.pyenv/versions/3.11.5/envs/msai339/lib/python3.11/site-packages/sklearn/linear_model/_logistic.py:460: ConvergenceWarning: lbfgs failed to converge (status=1):\n",
      "STOP: TOTAL NO. of ITERATIONS REACHED LIMIT.\n",
      "\n",
      "Increase the number of iterations (max_iter) or scale the data as shown in:\n",
      "    https://scikit-learn.org/stable/modules/preprocessing.html\n",
      "Please also refer to the documentation for alternative solver options:\n",
      "    https://scikit-learn.org/stable/modules/linear_model.html#logistic-regression\n",
      "  n_iter_i = _check_optimize_result(\n"
     ]
    },
    {
     "data": {
      "text/plain": [
       "<sklearn.metrics._plot.confusion_matrix.ConfusionMatrixDisplay at 0x169ab4110>"
      ]
     },
     "execution_count": 12,
     "metadata": {},
     "output_type": "execute_result"
    },
    {
     "data": {
      "image/png": "[encoded data removed]",
      "text/plain": [
       "<Figure size 640x480 with 2 Axes>"
      ]
     },
     "metadata": {},
     "output_type": "display_data"
    }
   ],
   "source": [
    "# @title Loading the data and establishing the baseline\n",
    "diabetes_df = pd.read_csv(\"data/diabetes.csv\")\n",
    "diabetes_cm = score_data(diabetes_df)\n",
    "\n",
    "disp = ConfusionMatrixDisplay(diabetes_cm)\n",
    "disp.plot()"
   ]
  },
  {
   "cell_type": "markdown",
   "metadata": {
    "id": "o5B_tqIqv9VJ"
   },
   "source": [
    "## EDA"
   ]
  },
  {
   "cell_type": "code",
   "execution_count": null,
   "metadata": {
    "id": "dKDqra65wKmo"
   },
   "outputs": [],
   "source": []
  },
  {
   "cell_type": "markdown",
   "metadata": {
    "id": "vCz9UgpWwK_F"
   },
   "source": [
    "## Model\n",
    "\n",
    "How did your preparation of the data impact the `LogisticRegression` model?\n",
    "\n",
    "Compare the initial confusion matrix to the confusion matrix after you have completed EDA and preparation."
   ]
  },
  {
   "cell_type": "markdown",
   "metadata": {
    "id": "bIJ9pX8ewS-D"
   },
   "source": []
  },
  {
   "cell_type": "markdown",
   "metadata": {
    "id": "8H9PDRzawSCJ"
   },
   "source": [
    "# Leakage Assessment\n",
    "\n",
    "Can you describe in what ways your data preparation might be \"leaking\" information from the training data to the test data\n"
   ]
  },
  {
   "cell_type": "markdown",
   "metadata": {
    "id": "_lvVrdVowTlq"
   },
   "source": []
  }
 ],
 "metadata": {
  "colab": {
   "provenance": []
  },
  "kernelspec": {
   "display_name": "Python 3 (ipykernel)",
   "language": "python",
   "name": "python3"
  },
  "language_info": {
   "codemirror_mode": {
    "name": "ipython",
    "version": 3
   },
   "file_extension": ".py",
   "mimetype": "text/x-python",
   "name": "python",
   "nbconvert_exporter": "python",
   "pygments_lexer": "ipython3",
   "version": "3.11.5"
  }
 },
 "nbformat": 4,
 "nbformat_minor": 4
}
